{
  "nbformat": 4,
  "nbformat_minor": 0,
  "metadata": {
    "colab": {
      "name": "Counting-Point-Mutations.ipynb",
      "provenance": [],
      "authorship_tag": "ABX9TyMOiiEf9SN2yHVYt0p1K0qC"
    },
    "kernelspec": {
      "name": "python3",
      "display_name": "Python 3"
    }
  },
  "cells": [
    {
      "cell_type": "markdown",
      "metadata": {
        "id": "As7_FddFlY1J"
      },
      "source": [
        "#**Counting Point Mutations**\r\n",
        "\r\n",
        "http://rosalind.info/problems/hamm/"
      ]
    },
    {
      "cell_type": "markdown",
      "metadata": {
        "id": "AsXZZ0JTldDk"
      },
      "source": [
        "Given: Two DNA strings s and t of equal length (not exceeding 1 kbp).\r\n",
        "\r\n",
        "Return: The Hamming distance dH(s,t)."
      ]
    },
    {
      "cell_type": "code",
      "metadata": {
        "id": "rfUu1eGclXRs"
      },
      "source": [
        "s = \"GAGCCTACTAACGGGAT\"\r\n",
        "t = \"CATCGTAATGACGGCCT\""
      ],
      "execution_count": 1,
      "outputs": []
    },
    {
      "cell_type": "code",
      "metadata": {
        "id": "u6oQnrzclhtY"
      },
      "source": [
        "# função que devolve a quantidade de mutações pontuais (troca de nucleotídeo)\r\n",
        "def hamming_distance(s, t):\r\n",
        "\r\n",
        "  tamanho = len(s)\r\n",
        "  count = 0\r\n",
        "  \r\n",
        "  for pos in range(tamanho):\r\n",
        "    if s[pos] != t[pos]:\r\n",
        "      count += 1\r\n",
        "\r\n",
        "  return(count)"
      ],
      "execution_count": 2,
      "outputs": []
    },
    {
      "cell_type": "code",
      "metadata": {
        "colab": {
          "base_uri": "https://localhost:8080/"
        },
        "id": "-kJ0g1N7l_s5",
        "outputId": "28b1f451-6326-4882-9e89-805ee217cef5"
      },
      "source": [
        "# chamando a função\r\n",
        "hamming_distance(s, t)"
      ],
      "execution_count": 3,
      "outputs": [
        {
          "output_type": "execute_result",
          "data": {
            "text/plain": [
              "7"
            ]
          },
          "metadata": {
            "tags": []
          },
          "execution_count": 3
        }
      ]
    }
  ]
}