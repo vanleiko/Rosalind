{
  "nbformat": 4,
  "nbformat_minor": 0,
  "metadata": {
    "colab": {
      "name": "Transcribing-DNA-into-RNA.ipynb",
      "provenance": [],
      "authorship_tag": "ABX9TyPPmIyh3ONO0anzprEnxmHE"
    },
    "kernelspec": {
      "name": "python3",
      "display_name": "Python 3"
    }
  },
  "cells": [
    {
      "cell_type": "markdown",
      "metadata": {
        "id": "Mb5W7HWhZrd6"
      },
      "source": [
        "#**Transcribing DNA into RNA**\r\n",
        "\r\n",
        "http://rosalind.info/problems/rna/"
      ]
    },
    {
      "cell_type": "markdown",
      "metadata": {
        "id": "WB4u1lKPZur8"
      },
      "source": [
        "Given: A DNA string t having length at most 1000 nt.\r\n",
        "\r\n",
        "Return: The transcribed RNA string of t."
      ]
    },
    {
      "cell_type": "code",
      "metadata": {
        "id": "U4azo38LZoeW"
      },
      "source": [
        "t = \"GATGGAACTTGACTACGTAAATT\""
      ],
      "execution_count": 1,
      "outputs": []
    },
    {
      "cell_type": "code",
      "metadata": {
        "id": "biG7O3TzZ0VB"
      },
      "source": [
        "# trocar 'T' por 'U'\r\n",
        "rna = t.replace(\"T\", \"U\")"
      ],
      "execution_count": 2,
      "outputs": []
    },
    {
      "cell_type": "code",
      "metadata": {
        "colab": {
          "base_uri": "https://localhost:8080/"
        },
        "id": "rKWvw_FFZ6EK",
        "outputId": "24fa4783-9eeb-436b-dafe-213685674028"
      },
      "source": [
        "print(rna)"
      ],
      "execution_count": 3,
      "outputs": [
        {
          "output_type": "stream",
          "text": [
            "GAUGGAACUUGACUACGUAAAUU\n"
          ],
          "name": "stdout"
        }
      ]
    },
    {
      "cell_type": "code",
      "metadata": {
        "id": "_JPQPVgbZ7B2"
      },
      "source": [
        ""
      ],
      "execution_count": null,
      "outputs": []
    }
  ]
}