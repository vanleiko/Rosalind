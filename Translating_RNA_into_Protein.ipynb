{
  "nbformat": 4,
  "nbformat_minor": 0,
  "metadata": {
    "colab": {
      "name": "Translating-RNA-into-Protein.ipynb",
      "provenance": [],
      "authorship_tag": "ABX9TyPfg20rvnm9WsbylbPQwOFd"
    },
    "kernelspec": {
      "name": "python3",
      "display_name": "Python 3"
    }
  },
  "cells": [
    {
      "cell_type": "markdown",
      "metadata": {
        "id": "T_jnmNPihjPn"
      },
      "source": [
        "#**Translating RNA into Protein**\r\n",
        "\r\n",
        "http://rosalind.info/problems/prot/"
      ]
    },
    {
      "cell_type": "markdown",
      "metadata": {
        "id": "IKCwJcXUhoi5"
      },
      "source": [
        "Given: An RNA string s corresponding to a strand of mRNA (of length at most 10 kbp).\r\n",
        "\r\n",
        "Return: The protein string encoded by s."
      ]
    },
    {
      "cell_type": "code",
      "metadata": {
        "id": "kbdImeFZhhO6"
      },
      "source": [
        "s = \"AUGGCCAUGGCGCCCAGAACUGAGAUCAAUAGUACCCGUAUUAACGGGUGA\""
      ],
      "execution_count": 1,
      "outputs": []
    },
    {
      "cell_type": "code",
      "metadata": {
        "id": "JeOHN5quhlzP"
      },
      "source": [
        "# função que devolve o aminoácido referente ao códon passado como parâmetro\r\n",
        "def retorna_aminoacido(codon):\r\n",
        "  \r\n",
        "  codon_dict = {\"UUU\": \"F\", \"CUU\": \"L\", \"AUU\": \"I\", \"GUU\": \"V\",\r\n",
        "                \"UUC\": \"F\", \"CUC\": \"L\", \"AUC\": \"I\", \"GUC\": \"V\",\r\n",
        "                \"UUA\": \"L\", \"CUA\": \"L\", \"AUA\": \"I\", \"GUA\": \"V\",\r\n",
        "                \"UUG\": \"L\", \"CUG\": \"L\", \"AUG\": \"M\", \"GUG\": \"V\",\r\n",
        "                \"UCU\": \"S\", \"CCU\": \"P\", \"ACU\": \"T\", \"GCU\": \"A\",\r\n",
        "                \"UCC\": \"S\", \"CCC\": \"P\", \"ACC\": \"T\", \"GCC\": \"A\",\r\n",
        "                \"UCA\": \"S\", \"CCA\": \"P\", \"ACA\": \"T\", \"GCA\": \"A\",\r\n",
        "                \"UCG\": \"S\", \"CCG\": \"P\", \"ACG\": \"T\", \"GCG\": \"A\",\r\n",
        "                \"UAU\": \"Y\", \"CAU\": \"H\", \"AAU\": \"N\", \"GAU\": \"D\",\r\n",
        "                \"UAC\": \"Y\", \"CAC\": \"H\", \"AAC\": \"N\", \"GAC\": \"D\",\r\n",
        "                \"UAA\": \"Stop\", \"CAA\": \"Q\", \"AAA\": \"K\", \"GAA\": \"E\",\r\n",
        "                \"UAG\": \"Stop\", \"CAG\": \"Q\", \"AAG\": \"K\", \"GAG\": \"E\",\r\n",
        "                \"UGU\": \"C\", \"CGU\": \"R\", \"AGU\": \"S\", \"GGU\": \"G\",\r\n",
        "                \"UGC\": \"C\", \"CGC\": \"R\", \"AGC\": \"S\", \"GGC\": \"G\",\r\n",
        "                \"UGA\": \"Stop\", \"CGA\": \"R\", \"AGA\": \"R\", \"GGA\": \"G\",\r\n",
        "                \"UGG\": \"W\", \"CGG\": \"R\", \"AGG\": \"R\", \"GGG\": \"G\"}\r\n",
        "\r\n",
        "  aa = codon_dict[codon]\r\n",
        "\r\n",
        "  return aa"
      ],
      "execution_count": 2,
      "outputs": []
    },
    {
      "cell_type": "code",
      "metadata": {
        "id": "2tqjY_Wyh_YE"
      },
      "source": [
        "# função que traduz o RNA\r\n",
        "def traducao(s):\r\n",
        "  tamanho_rna = len(s)\r\n",
        "  proteina = \"\"\r\n",
        "      \r\n",
        "  # janela de leitura do RNA, com step = 3\r\n",
        "  for pos in range(0, tamanho_rna, 3):\r\n",
        "    aa = retorna_aminoacido(s[pos:pos+3])\r\n",
        "    if aa != \"Stop\":\r\n",
        "      proteina += aa\r\n",
        "    else:\r\n",
        "      return proteina"
      ],
      "execution_count": 4,
      "outputs": []
    },
    {
      "cell_type": "code",
      "metadata": {
        "colab": {
          "base_uri": "https://localhost:8080/",
          "height": 35
        },
        "id": "WOkeuOZuiqZU",
        "outputId": "a9cf0c83-7e86-45d1-916e-dc6c50bfd70f"
      },
      "source": [
        "# chamando a função\r\n",
        "traducao(s)"
      ],
      "execution_count": 5,
      "outputs": [
        {
          "output_type": "execute_result",
          "data": {
            "application/vnd.google.colaboratory.intrinsic+json": {
              "type": "string"
            },
            "text/plain": [
              "'MAMAPRTEINSTRING'"
            ]
          },
          "metadata": {
            "tags": []
          },
          "execution_count": 5
        }
      ]
    }
  ]
}