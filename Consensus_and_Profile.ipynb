{
  "nbformat": 4,
  "nbformat_minor": 0,
  "metadata": {
    "colab": {
      "name": "Consensus-and-Profile.ipynb",
      "provenance": [],
      "authorship_tag": "ABX9TyMCAkDJKeq4nSg8wxizgD5P"
    },
    "kernelspec": {
      "name": "python3",
      "display_name": "Python 3"
    }
  },
  "cells": [
    {
      "cell_type": "markdown",
      "metadata": {
        "id": "D7NhufNJPAMS"
      },
      "source": [
        "**Consensus and Profile**\r\n",
        "\r\n",
        "http://rosalind.info/problems/cons/"
      ]
    },
    {
      "cell_type": "markdown",
      "metadata": {
        "id": "DRUoH5gJPFTQ"
      },
      "source": [
        "Given: A collection of at most 10 DNA strings of equal length (at most 1 kbp) in FASTA format.\r\n",
        "\r\n",
        "Return: A consensus string and profile matrix for the collection. (If several possible consensus strings exist, then you may return any one of them.)"
      ]
    },
    {
      "cell_type": "code",
      "metadata": {
        "colab": {
          "base_uri": "https://localhost:8080/"
        },
        "id": "Mra5FeZtX8xv",
        "outputId": "3fbc3b7b-cd54-4990-8e27-d5ce8b6ab7c7"
      },
      "source": [
        "!pip install biopython"
      ],
      "execution_count": 34,
      "outputs": [
        {
          "output_type": "stream",
          "text": [
            "Collecting biopython\n",
            "\u001b[?25l  Downloading https://files.pythonhosted.org/packages/76/02/8b606c4aa92ff61b5eda71d23b499ab1de57d5e818be33f77b01a6f435a8/biopython-1.78-cp36-cp36m-manylinux1_x86_64.whl (2.3MB)\n",
            "\u001b[K     |████████████████████████████████| 2.3MB 4.4MB/s \n",
            "\u001b[?25hRequirement already satisfied: numpy in /usr/local/lib/python3.6/dist-packages (from biopython) (1.19.4)\n",
            "Installing collected packages: biopython\n",
            "Successfully installed biopython-1.78\n"
          ],
          "name": "stdout"
        }
      ]
    },
    {
      "cell_type": "code",
      "metadata": {
        "id": "PYeV0ONWYFVX"
      },
      "source": [
        "from Bio import SeqIO"
      ],
      "execution_count": 36,
      "outputs": []
    },
    {
      "cell_type": "code",
      "metadata": {
        "id": "vieX7NnFTbWt"
      },
      "source": [
        "# conta a quantidade de nt que aparece em cada posição e retorna uma matriz com 4 linhas e k colunas\r\n",
        "def matriz_quantidade_nt(lista):\r\n",
        "  conta = {}\r\n",
        "\r\n",
        "  t = len(lista) # guarda a quantidade de sequências da lista\r\n",
        "  k = len(lista[0]) # guarda a quantidade de nt da sequência\r\n",
        "  \r\n",
        "  for base in \"ACGT\":\r\n",
        "    conta[base] = [0]*k  # cria um dicionário 4 linhas x k colunas, preenchido por zeros\r\n",
        "    \r\n",
        "  for i in range(t):     # percorre cada sequência da lista\r\n",
        "    for j in range(k):   # percorre cada nucleotideo da sequência\r\n",
        "      nt = lista[i][j]\r\n",
        "      conta[nt][j] += 1   # soma 1 ao valor do nucleotídeo correspondente no dicionário \r\n",
        "\r\n",
        "  return conta\r\n",
        "\r\n"
      ],
      "execution_count": 59,
      "outputs": []
    },
    {
      "cell_type": "code",
      "metadata": {
        "id": "HTCy7GIFTuUV"
      },
      "source": [
        "# retorna a fita consenso baseada na matriz gerada na função acima\r\n",
        "def retorna_fita_consenso(lista):\r\n",
        "  k = len(lista[0])    # guarda a quantidade de nt da sequência\r\n",
        "\r\n",
        "  matriz = matriz_quantidade_nt(lista)   # chama a função anterior\r\n",
        "\r\n",
        "  fita_consenso = \"\"    # vai receber os nt da fita consenso\r\n",
        "\r\n",
        "  valor = 0\r\n",
        "  for pos in range(k):    # percorre cada coluna (k) da matriz para achar o nucleotideo com maior valor\r\n",
        "    for nt in \"ACGT\":     # percorre cada linha da matriz (ACGT) para achar o nt com maior valor\r\n",
        "      if matriz[nt][pos] > valor:\r\n",
        "        valor = matriz[nt][pos]\r\n",
        "        nt_consenso = nt\r\n",
        "    fita_consenso += nt_consenso\r\n",
        "    valor = 0             # reinicia o valor para ir para a próxima posição\r\n",
        "\r\n",
        "  return fita_consenso, matriz"
      ],
      "execution_count": 60,
      "outputs": []
    },
    {
      "cell_type": "code",
      "metadata": {
        "id": "SMlLpWqBYKMX"
      },
      "source": [
        "# lendo o arquivo fasta\r\n",
        "arquivo = SeqIO.parse(\"/content/rosalind_cons.txt\", \"fasta\")"
      ],
      "execution_count": 84,
      "outputs": []
    },
    {
      "cell_type": "code",
      "metadata": {
        "id": "hZIBy8ddYP6l"
      },
      "source": [
        "# guardando as sequências em uma lista\r\n",
        "lista = []\r\n",
        "\r\n",
        "for item in arquivo:\r\n",
        "  lista.append(item.seq)"
      ],
      "execution_count": 85,
      "outputs": []
    },
    {
      "cell_type": "code",
      "metadata": {
        "id": "bzb-f39oWqKk"
      },
      "source": [
        "# chamando a função\r\n",
        "fita_consenso, matriz = retorna_fita_consenso(lista)"
      ],
      "execution_count": 86,
      "outputs": []
    },
    {
      "cell_type": "code",
      "metadata": {
        "colab": {
          "base_uri": "https://localhost:8080/"
        },
        "id": "wH6gzcIIX62I",
        "outputId": "b43ba007-2492-4256-a989-92152b1fc12c"
      },
      "source": [
        "# imprimindo a sequência consenso\r\n",
        "print(fita_consenso)"
      ],
      "execution_count": 87,
      "outputs": [
        {
          "output_type": "stream",
          "text": [
            "ATGCAACT\n"
          ],
          "name": "stdout"
        }
      ]
    },
    {
      "cell_type": "code",
      "metadata": {
        "colab": {
          "base_uri": "https://localhost:8080/"
        },
        "id": "iwQ_q84yW2UZ",
        "outputId": "b9db839f-7222-4247-ca40-66f4f4628f27"
      },
      "source": [
        "# imprimindo a matriz\r\n",
        "for chave, valores in matriz.items():\r\n",
        "  print(f'{chave}:', end=\" \")\r\n",
        "  for valor in valores:\r\n",
        "    print(valor, end=\" \")\r\n",
        "  print(\"\\n\")\r\n",
        "    "
      ],
      "execution_count": 88,
      "outputs": [
        {
          "output_type": "stream",
          "text": [
            "A: 5 1 0 0 5 5 0 0 \n",
            "\n",
            "C: 0 0 1 4 2 0 6 1 \n",
            "\n",
            "G: 1 1 6 3 0 1 0 0 \n",
            "\n",
            "T: 1 5 0 0 0 1 1 6 \n",
            "\n"
          ],
          "name": "stdout"
        }
      ]
    }
  ]
}