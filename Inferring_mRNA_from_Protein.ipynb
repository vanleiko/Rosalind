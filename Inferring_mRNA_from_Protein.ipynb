{
  "nbformat": 4,
  "nbformat_minor": 0,
  "metadata": {
    "colab": {
      "name": "Inferring-mRNA-from-Protein.ipynb",
      "provenance": [],
      "authorship_tag": "ABX9TyM+6D/xIFidieLjObURcdH6"
    },
    "kernelspec": {
      "name": "python3",
      "display_name": "Python 3"
    }
  },
  "cells": [
    {
      "cell_type": "markdown",
      "metadata": {
        "id": "3D_TGmYRouPZ"
      },
      "source": [
        "#**Inferring mRNA from Protein**\r\n",
        "\r\n",
        "http://rosalind.info/problems/mrna/"
      ]
    },
    {
      "cell_type": "markdown",
      "metadata": {
        "id": "0v-xnTk2ozJb"
      },
      "source": [
        "Given: A protein string of length at most 1000 aa.\r\n",
        "\r\n",
        "Return: The total number of different RNA strings from which the protein could have been translated, modulo 1,000,000. (Don't neglect the importance of the stop codon in protein translation.)"
      ]
    },
    {
      "cell_type": "code",
      "metadata": {
        "id": "EOlG9WzEorxo"
      },
      "source": [
        "proteina = \"MA\""
      ],
      "execution_count": 2,
      "outputs": []
    },
    {
      "cell_type": "code",
      "metadata": {
        "id": "LhFpKEJ_pPrT"
      },
      "source": [
        "codigo_genetico = {\"UUU\": \"F\", \"CUU\": \"L\", \"AUU\": \"I\", \"GUU\": \"V\",\r\n",
        "                  \"UUC\": \"F\", \"CUC\": \"L\", \"AUC\": \"I\", \"GUC\": \"V\",\r\n",
        "                  \"UUA\": \"L\", \"CUA\": \"L\", \"AUA\": \"I\", \"GUA\": \"V\",\r\n",
        "                  \"UUG\": \"L\", \"CUG\": \"L\", \"AUG\": \"M\", \"GUG\": \"V\",\r\n",
        "                  \"UCU\": \"S\", \"CCU\": \"P\", \"ACU\": \"T\", \"GCU\": \"A\",\r\n",
        "                  \"UCC\": \"S\", \"CCC\": \"P\", \"ACC\": \"T\", \"GCC\": \"A\",\r\n",
        "                  \"UCA\": \"S\", \"CCA\": \"P\", \"ACA\": \"T\", \"GCA\": \"A\",\r\n",
        "                  \"UCG\": \"S\", \"CCG\": \"P\", \"ACG\": \"T\", \"GCG\": \"A\",\r\n",
        "                  \"UAU\": \"Y\", \"CAU\": \"H\", \"AAU\": \"N\", \"GAU\": \"D\",\r\n",
        "                  \"UAC\": \"Y\", \"CAC\": \"H\", \"AAC\": \"N\", \"GAC\": \"D\",\r\n",
        "                  \"UAA\": \"Stop\", \"CAA\": \"Q\", \"AAA\": \"K\", \"GAA\": \"E\",\r\n",
        "                  \"UAG\": \"Stop\", \"CAG\": \"Q\", \"AAG\": \"K\", \"GAG\": \"E\",\r\n",
        "                  \"UGU\": \"C\", \"CGU\": \"R\", \"AGU\": \"S\", \"GGU\": \"G\",\r\n",
        "                  \"UGC\": \"C\", \"CGC\": \"R\", \"AGC\": \"S\", \"GGC\": \"G\",\r\n",
        "                  \"UGA\": \"Stop\", \"CGA\": \"R\", \"AGA\": \"R\", \"GGA\": \"G\",\r\n",
        "                  \"UGG\": \"W\", \"CGG\": \"R\", \"AGG\": \"R\", \"GGG\": \"G\"}"
      ],
      "execution_count": 3,
      "outputs": []
    },
    {
      "cell_type": "code",
      "metadata": {
        "id": "If9OztGJp6ZZ"
      },
      "source": [
        "# lista com os aminoácidos (apenas os valores do dicionário)\r\n",
        "lista_aa = [value for value in codigo_genetico.values()]\r\n"
      ],
      "execution_count": 8,
      "outputs": []
    },
    {
      "cell_type": "code",
      "metadata": {
        "id": "aR6EVyYRqei2",
        "outputId": "50d112eb-032c-448d-e55d-e33f5844379b",
        "colab": {
          "base_uri": "https://localhost:8080/"
        }
      },
      "source": [
        "# criando um conjunto para eliminar as duplicatas\r\n",
        "set_aa = set(lista_aa)\r\n",
        "set_aa"
      ],
      "execution_count": 9,
      "outputs": [
        {
          "output_type": "execute_result",
          "data": {
            "text/plain": [
              "{'A',\n",
              " 'C',\n",
              " 'D',\n",
              " 'E',\n",
              " 'F',\n",
              " 'G',\n",
              " 'H',\n",
              " 'I',\n",
              " 'K',\n",
              " 'L',\n",
              " 'M',\n",
              " 'N',\n",
              " 'P',\n",
              " 'Q',\n",
              " 'R',\n",
              " 'S',\n",
              " 'Stop',\n",
              " 'T',\n",
              " 'V',\n",
              " 'W',\n",
              " 'Y'}"
            ]
          },
          "metadata": {
            "tags": []
          },
          "execution_count": 9
        }
      ]
    },
    {
      "cell_type": "code",
      "metadata": {
        "id": "ICtGDgE5qjgc",
        "outputId": "0ad3f367-670f-4687-a006-cd13a00dd71f",
        "colab": {
          "base_uri": "https://localhost:8080/"
        }
      },
      "source": [
        "# criando um dicionário com o aminoácido (key) e sua quantidade (value)\r\n",
        "quantidade_aa = {item: lista_aa.count(item) for item in set_aa}\r\n",
        "quantidade_aa"
      ],
      "execution_count": 10,
      "outputs": [
        {
          "output_type": "execute_result",
          "data": {
            "text/plain": [
              "{'A': 4,\n",
              " 'C': 2,\n",
              " 'D': 2,\n",
              " 'E': 2,\n",
              " 'F': 2,\n",
              " 'G': 4,\n",
              " 'H': 2,\n",
              " 'I': 3,\n",
              " 'K': 2,\n",
              " 'L': 6,\n",
              " 'M': 1,\n",
              " 'N': 2,\n",
              " 'P': 4,\n",
              " 'Q': 2,\n",
              " 'R': 6,\n",
              " 'S': 6,\n",
              " 'Stop': 3,\n",
              " 'T': 4,\n",
              " 'V': 4,\n",
              " 'W': 1,\n",
              " 'Y': 2}"
            ]
          },
          "metadata": {
            "tags": []
          },
          "execution_count": 10
        }
      ]
    },
    {
      "cell_type": "code",
      "metadata": {
        "id": "BNhiX2CDow9v"
      },
      "source": [
        "# função retorna a quantidade dos diferentes RNAs que poderiam originar a proteína\r\n",
        "def quantidade_rna(proteina): \r\n",
        "\r\n",
        "  quantidade_total = 1\r\n",
        "\r\n",
        "  for aa in proteina:\r\n",
        "    \r\n",
        "    quantidade = quantidade_aa[aa]\r\n",
        "    quantidade_total *= quantidade\r\n",
        "\r\n",
        "  # multiplica o resultado por 3, pois há 3 stop codons possíveis\r\n",
        "  return (quantidade_total * 3) % 10**6"
      ],
      "execution_count": 11,
      "outputs": []
    },
    {
      "cell_type": "code",
      "metadata": {
        "id": "0Lk-b9WJrVbl",
        "outputId": "8e3e59fa-7c6e-4ba9-aa65-1ab8dcd73b51",
        "colab": {
          "base_uri": "https://localhost:8080/"
        }
      },
      "source": [
        "# chamando a função\r\n",
        "quantidade_rna(\"MA\")"
      ],
      "execution_count": 12,
      "outputs": [
        {
          "output_type": "execute_result",
          "data": {
            "text/plain": [
              "12"
            ]
          },
          "metadata": {
            "tags": []
          },
          "execution_count": 12
        }
      ]
    }
  ]
}