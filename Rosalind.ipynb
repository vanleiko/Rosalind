{
  "nbformat": 4,
  "nbformat_minor": 0,
  "metadata": {
    "colab": {
      "name": "Rosalind.ipynb",
      "provenance": [],
      "authorship_tag": "ABX9TyPigR9UDPl5OdK9vJurU33+",
      "include_colab_link": true
    },
    "kernelspec": {
      "name": "python3",
      "display_name": "Python 3"
    }
  },
  "cells": [
    {
      "cell_type": "markdown",
      "metadata": {
        "id": "view-in-github",
        "colab_type": "text"
      },
      "source": [
        "<a href=\"https://colab.research.google.com/github/vanleiko/Rosalind/blob/main/Rosalind.ipynb\" target=\"_parent\"><img src=\"https://colab.research.google.com/assets/colab-badge.svg\" alt=\"Open In Colab\"/></a>"
      ]
    },
    {
      "cell_type": "markdown",
      "metadata": {
        "id": "dSiPD8yoztyJ"
      },
      "source": [
        "#1 DNA\n",
        "Counting DNA nucleotides\n",
        "\n",
        "http://rosalind.info/problems/dna/"
      ]
    },
    {
      "cell_type": "code",
      "metadata": {
        "id": "JtfwWTEUyr6W",
        "colab": {
          "base_uri": "https://localhost:8080/"
        },
        "outputId": "4ea5c8b7-3a6c-4a68-de82-37ff31931876"
      },
      "source": [
        "# contar os nucleotídeos A T G C\n",
        "def conta_nucleotideo(fita):\n",
        "        adenina = fita.count(\"A\")\n",
        "        timina = fita.count(\"T\")\n",
        "        guanina = fita.count(\"G\")\n",
        "        citosina = fita.count(\"C\")\n",
        "\n",
        "        return(adenina, citosina, guanina, timina)\n",
        "        \n",
        "\n",
        "\n",
        "conta_nucleotideo(\"AGCTTTTCATTCTGACTGCAACGGGCAATATGTCTCTGTGTGGATTAAAAAAAGAGTGTCTGATAGCAGC\")"
      ],
      "execution_count": null,
      "outputs": [
        {
          "output_type": "execute_result",
          "data": {
            "text/plain": [
              "(20, 12, 17, 21)"
            ]
          },
          "metadata": {
            "tags": []
          },
          "execution_count": 2
        }
      ]
    },
    {
      "cell_type": "markdown",
      "metadata": {
        "id": "lO7EY-R00gEv"
      },
      "source": [
        "#2 RNA\n",
        "Transcribing DNA into RNA\n",
        "\n",
        "http://rosalind.info/problems/rna/"
      ]
    },
    {
      "cell_type": "code",
      "metadata": {
        "id": "oOshvW-y0ksz",
        "colab": {
          "base_uri": "https://localhost:8080/",
          "height": 35
        },
        "outputId": "3323b037-8aed-4ea4-a427-a4c8f6d152b5"
      },
      "source": [
        "# a diferença é que o RNA tem \"U\" no lugar do \"T\" (que é do DNA)\n",
        "def transcreve_dna(fita):\n",
        "    rna = fita.replace(\"T\", \"U\")\n",
        "\n",
        "    return(rna)\n",
        "\n",
        "\n",
        "\n",
        "transcreve_dna(\"GATGGAACTTGACTACGTAAATT\")"
      ],
      "execution_count": null,
      "outputs": [
        {
          "output_type": "execute_result",
          "data": {
            "application/vnd.google.colaboratory.intrinsic+json": {
              "type": "string"
            },
            "text/plain": [
              "'GAUGGAACUUGACUACGUAAAUU'"
            ]
          },
          "metadata": {
            "tags": []
          },
          "execution_count": 3
        }
      ]
    },
    {
      "cell_type": "markdown",
      "metadata": {
        "id": "T15TjDnq03x2"
      },
      "source": [
        "#<font color = \"red\">3 REVC *\n",
        "Complementing a Strand of DNA \n",
        "\n",
        "http://rosalind.info/problems/revc/"
      ]
    },
    {
      "cell_type": "code",
      "metadata": {
        "id": "7ne7WsF_07mT",
        "colab": {
          "base_uri": "https://localhost:8080/",
          "height": 35
        },
        "outputId": "f8f55c67-ae2f-4672-a90a-dd6fd26dd765"
      },
      "source": [
        "# \"A\" pareia com \"T\"; \"G\" parei com \"C\". A fita complementar tem sentido inverso da fita-molde\n",
        "def dna_complementar_reverso(fita):\n",
        "  nova_fita = []\n",
        "\n",
        "  for n in fita[::-1]:\n",
        "    if n == \"A\":\n",
        "      nova_fita.append(\"T\")\n",
        "    elif n == \"T\":\n",
        "      nova_fita.append(\"A\")\n",
        "    elif n == \"G\":\n",
        "      nova_fita.append(\"C\")\n",
        "    elif n == \"C\":\n",
        "      nova_fita.append(\"G\")\n",
        "\n",
        "  nova_fita = ''.join(nova_fita)\n",
        "  \n",
        "  return(nova_fita)\n",
        "\n",
        "\n",
        "\n",
        "dna_complementar_reverso(\"AAAACCCGGT\")\n",
        "\n",
        "\n"
      ],
      "execution_count": null,
      "outputs": [
        {
          "output_type": "execute_result",
          "data": {
            "application/vnd.google.colaboratory.intrinsic+json": {
              "type": "string"
            },
            "text/plain": [
              "'ACCGGGTTTT'"
            ]
          },
          "metadata": {
            "tags": []
          },
          "execution_count": 31
        }
      ]
    },
    {
      "cell_type": "code",
      "metadata": {
        "id": "b9o2dn7t9i2m"
      },
      "source": [
        "############# Código mais simples ##############\n",
        "def dna_c_reverso(fita):\n",
        "  substituicao = {\"A\": \"T\", \"G\": \"C\", \"T\": \"A\", \"C\": \"G\"}\n",
        "\n",
        "  dna_c = [] \n",
        "\n",
        "  for n in fita:\n",
        "    dna_c.append(substituicao[n])\n",
        "    \n",
        "  #fita reversa\n",
        "  dna_c_r = dna_c[::-1]\n",
        "\n",
        "  return(''.join(dna_c_r))"
      ],
      "execution_count": null,
      "outputs": []
    },
    {
      "cell_type": "markdown",
      "metadata": {
        "id": "iQZIhMrz4imX"
      },
      "source": [
        "#<font color = \"red\"> 4 IPRB * \n",
        "\n",
        "Mendel's First Law\n",
        "\n",
        "http://rosalind.info/problems/iprb/\n",
        "\n"
      ]
    },
    {
      "cell_type": "markdown",
      "metadata": {
        "id": "lnA-NwZL5nkk"
      },
      "source": [
        "Homozigoto dominante (k) = AA (produz gametas 'A')\n",
        "\n",
        "Heterozigoto (m) = Aa (produz gametas 'A' e 'a')\n",
        "\n",
        "Homozigoto recessivo (n) = aa (produz gametas 'a')"
      ]
    },
    {
      "cell_type": "code",
      "metadata": {
        "id": "5lTrWh131VCX",
        "colab": {
          "base_uri": "https://localhost:8080/"
        },
        "outputId": "ade396d5-d87c-4840-fe35-91929291eec4"
      },
      "source": [
        "# aqui precisa saber cruzamentos\n",
        "def alelo_dominante(k, m, n):\n",
        "    total = k + m + n\n",
        "\n",
        "    # combinação: Cn,p (n = total; p = 2 -> casal)\n",
        "    prob_total = (total * (total - 1)) / 2\n",
        "\n",
        "    # probabilidade de ter pelo menos 1 alelo dominante 'A'\n",
        "    k_m = (k * m)\n",
        "    k_n = (k * n)\n",
        "    m_n = (m * n) * 0.5\n",
        "    k_k = (k * (k - 1)) / 2\n",
        "    m_m = ((m * (m - 1)) / 2 ) * 0.75\n",
        "\n",
        "    prob_heterozgoto = k_m + k_n + m_n + k_k + m_m\n",
        "    heterozigoto = prob_heterozgoto / prob_total\n",
        "\n",
        "    return heterozigoto\n",
        "\n",
        "\n",
        "\n",
        "alelo_dominante(2, 2, 2)"
      ],
      "execution_count": null,
      "outputs": [
        {
          "output_type": "execute_result",
          "data": {
            "text/plain": [
              "0.7833333333333333"
            ]
          },
          "metadata": {
            "tags": []
          },
          "execution_count": 34
        }
      ]
    },
    {
      "cell_type": "markdown",
      "metadata": {
        "id": "JMu47RyE9bhh"
      },
      "source": [
        "#5 FIB\n",
        "Rabbits and Recurrence Relations\n",
        "\n",
        "http://rosalind.info/problems/fib/"
      ]
    },
    {
      "cell_type": "code",
      "metadata": {
        "id": "d7guuUXD46p2",
        "colab": {
          "base_uri": "https://localhost:8080/"
        },
        "outputId": "25e6760d-2477-4cba-af6c-1cc39474bc55"
      },
      "source": [
        "# recursão simples\n",
        "def fibo(n, k):\n",
        "    if n == 1 or n == 2:\n",
        "        return 1\n",
        "    else:\n",
        "        return ((fibo(n-2, k) * k) + fibo(n-1, k))\n",
        "\n",
        "\n",
        "\n",
        "fibo(3, 5)"
      ],
      "execution_count": null,
      "outputs": [
        {
          "output_type": "execute_result",
          "data": {
            "text/plain": [
              "6"
            ]
          },
          "metadata": {
            "tags": []
          },
          "execution_count": 107
        }
      ]
    },
    {
      "cell_type": "markdown",
      "metadata": {
        "id": "MuMamnN696E1"
      },
      "source": [
        "#6 GC\n",
        "Computing GC Content\n",
        "\n",
        "http://rosalind.info/problems/gc/"
      ]
    },
    {
      "cell_type": "code",
      "metadata": {
        "id": "Tvf99v8k-Mkk",
        "colab": {
          "base_uri": "https://localhost:8080/"
        },
        "outputId": "0d0a5ff3-9db4-4b92-9729-a9267194e850"
      },
      "source": [
        "!pip install biopython"
      ],
      "execution_count": null,
      "outputs": [
        {
          "output_type": "stream",
          "text": [
            "Collecting biopython\n",
            "\u001b[?25l  Downloading https://files.pythonhosted.org/packages/76/02/8b606c4aa92ff61b5eda71d23b499ab1de57d5e818be33f77b01a6f435a8/biopython-1.78-cp36-cp36m-manylinux1_x86_64.whl (2.3MB)\n",
            "\u001b[K     |████████████████████████████████| 2.3MB 7.6MB/s \n",
            "\u001b[?25hRequirement already satisfied: numpy in /usr/local/lib/python3.6/dist-packages (from biopython) (1.18.5)\n",
            "Installing collected packages: biopython\n",
            "Successfully installed biopython-1.78\n"
          ],
          "name": "stdout"
        }
      ]
    },
    {
      "cell_type": "code",
      "metadata": {
        "id": "Ta4N-IK0-RAM"
      },
      "source": [
        "from Bio import SeqIO\n",
        "from Bio.SeqUtils import GC\n",
        "from Bio.Seq import Seq"
      ],
      "execution_count": null,
      "outputs": []
    },
    {
      "cell_type": "code",
      "metadata": {
        "id": "WRwmZGUv9zTS",
        "colab": {
          "base_uri": "https://localhost:8080/"
        },
        "outputId": "0a916510-e29d-42d8-946b-b7a0f669d039"
      },
      "source": [
        "# aqui usei a biblioteca biopython para ler arquito tipo 'fasta' e calcular o conteúdo GC\n",
        "\n",
        "arquivo = \"/content/rosalind_gc.txt\"\n",
        "\n",
        "# contar os nucleotídos \"G\", \"C\" e devolver a porcentagem e a ID da sequência\n",
        "def conteudo_gc(arquivo):\n",
        "  for i in SeqIO.parse(arquivo, \"fasta\"):\n",
        "  \tid = (i.id) \t\n",
        "  \tgc = GC(i.seq)\n",
        "    \n",
        "  print(id)\n",
        "  print(gc)\n",
        "\n",
        "\n",
        "\n",
        "conteudo_gc(arquivo)"
      ],
      "execution_count": null,
      "outputs": [
        {
          "output_type": "stream",
          "text": [
            "Rosalind_2269\n",
            "52.99145299145299\n"
          ],
          "name": "stdout"
        }
      ]
    },
    {
      "cell_type": "markdown",
      "metadata": {
        "id": "vuxgmW7fAnmC"
      },
      "source": [
        "#7 PROT\n",
        "Translating RNA into Protein\n",
        "\n",
        "http://rosalind.info/problems/prot/\n",
        "\n"
      ]
    },
    {
      "cell_type": "code",
      "metadata": {
        "id": "L4aicHGgAsJ8",
        "colab": {
          "base_uri": "https://localhost:8080/",
          "height": 35
        },
        "outputId": "7712d021-a00d-4bb8-c265-a6d25bb6fc1c"
      },
      "source": [
        "# código genético: cada 3 nucleotídeos de RNA (= 1 códon) traduz um aminoácido (abreviação de uma letra)\n",
        "def codon(codon_3):\n",
        "  \n",
        "    codon_dict = {\"UUU\": \"F\", \"CUU\": \"L\", \"AUU\": \"I\", \"GUU\": \"V\",\n",
        "                  \"UUC\": \"F\", \"CUC\": \"L\", \"AUC\": \"I\", \"GUC\": \"V\",\n",
        "                  \"UUA\": \"L\", \"CUA\": \"L\", \"AUA\": \"I\", \"GUA\": \"V\",\n",
        "                  \"UUG\": \"L\", \"CUG\": \"L\", \"AUG\": \"M\", \"GUG\": \"V\",\n",
        "                  \"UCU\": \"S\", \"CCU\": \"P\", \"ACU\": \"T\", \"GCU\": \"A\",\n",
        "                  \"UCC\": \"S\", \"CCC\": \"P\", \"ACC\": \"T\", \"GCC\": \"A\",\n",
        "                  \"UCA\": \"S\", \"CCA\": \"P\", \"ACA\": \"T\", \"GCA\": \"A\",\n",
        "                  \"UCG\": \"S\", \"CCG\": \"P\", \"ACG\": \"T\", \"GCG\": \"A\",\n",
        "                  \"UAU\": \"Y\", \"CAU\": \"H\", \"AAU\": \"N\", \"GAU\": \"D\",\n",
        "                  \"UAC\": \"Y\", \"CAC\": \"H\", \"AAC\": \"N\", \"GAC\": \"D\",\n",
        "                  \"UAA\": \"Stop\", \"CAA\": \"Q\", \"AAA\": \"K\", \"GAA\": \"E\",\n",
        "                  \"UAG\": \"Stop\", \"CAG\": \"Q\", \"AAG\": \"K\", \"GAG\": \"E\",\n",
        "                  \"UGU\": \"C\", \"CGU\": \"R\", \"AGU\": \"S\", \"GGU\": \"G\",\n",
        "                  \"UGC\": \"C\", \"CGC\": \"R\", \"AGC\": \"S\", \"GGC\": \"G\",\n",
        "                  \"UGA\": \"Stop\", \"CGA\": \"R\", \"AGA\": \"R\", \"GGA\": \"G\",\n",
        "                  \"UGG\": \"W\", \"CGG\": \"R\", \"AGG\": \"R\", \"GGG\": \"G\"}\n",
        "\n",
        "    aa = codon_dict[codon_3]\n",
        "\n",
        "    return aa\n",
        "\n",
        "\n",
        "# tradução do rna\n",
        "def traducao(fita_rna):\n",
        "    proteina = (\"\")\n",
        "    j = 0\n",
        "    k = 3\n",
        "    \n",
        "    for n in range(len(fita_rna)):\n",
        "        aa = codon(fita_rna[j:k])\n",
        "        if aa != \"Stop\":\n",
        "            proteina += aa\n",
        "            j += 3\n",
        "            k += 3\n",
        "        else:\n",
        "            return proteina\n",
        "  \n",
        "\n",
        "\n",
        "traducao(\"AUGGCCAUGGCGCCCAGAACUGAGAUCAAUAGUACCCGUAUUAACGGGUGA\")"
      ],
      "execution_count": null,
      "outputs": [
        {
          "output_type": "execute_result",
          "data": {
            "application/vnd.google.colaboratory.intrinsic+json": {
              "type": "string"
            },
            "text/plain": [
              "'MAMAPRTEINSTRING'"
            ]
          },
          "metadata": {
            "tags": []
          },
          "execution_count": 3
        }
      ]
    },
    {
      "cell_type": "code",
      "metadata": {
        "id": "lnq0DizJCDTJ",
        "colab": {
          "base_uri": "https://localhost:8080/"
        },
        "outputId": "0ebbee86-43ad-4249-e130-33f2a4a1c646"
      },
      "source": [
        "# usando biopython\n",
        "def traducao_2(fita_rna):\n",
        "  rna = Seq(fita_rna)\n",
        "  proteina = rna.translate()\n",
        "\n",
        "  return proteina\n",
        "\n",
        "\n",
        "\n",
        "traducao_2(\"AUGGCCAUGGCGCCCAGAACUGAGAUCAAUAGUACCCGUAUUAACGGGUGA\")"
      ],
      "execution_count": null,
      "outputs": [
        {
          "output_type": "execute_result",
          "data": {
            "text/plain": [
              "Seq('MAMAPRTEINSTRING*')"
            ]
          },
          "metadata": {
            "tags": []
          },
          "execution_count": 68
        }
      ]
    },
    {
      "cell_type": "markdown",
      "metadata": {
        "id": "GBebFFifDVnB"
      },
      "source": [
        "#<font color = \"red\"> 8 SUBS *\n",
        "Finding a Motif in DNA\n",
        "\n",
        "http://rosalind.info/problems/subs/"
      ]
    },
    {
      "cell_type": "code",
      "metadata": {
        "id": "p5K8v6zcCMUk",
        "colab": {
          "base_uri": "https://localhost:8080/"
        },
        "outputId": "db99fe3b-6f9a-4087-f2bd-ac6a1b0f05ee"
      },
      "source": [
        "# procurando trechos específicos no DNA\n",
        "def motif_dna(s, t):\n",
        "  j = 0\n",
        "  k = len(t)\n",
        "\n",
        "  while k <= len(s):\n",
        "    if s[j:k] == t:\n",
        "      pos = j\n",
        "      print (j+1, end=\" \")\n",
        "    j += 1\n",
        "    k += 1\n",
        "\n",
        "\n",
        "\n",
        "motif_dna(\"GATATATGCATATACTT\", \"ATAT\")"
      ],
      "execution_count": null,
      "outputs": [
        {
          "output_type": "stream",
          "text": [
            "2 4 10 "
          ],
          "name": "stdout"
        }
      ]
    },
    {
      "cell_type": "markdown",
      "metadata": {
        "id": "UVkMltbuKgwt"
      },
      "source": [
        "#9 HAMM\n",
        "Counting Point Mutations\n",
        "\n",
        "http://rosalind.info/problems/hamm/"
      ]
    },
    {
      "cell_type": "code",
      "metadata": {
        "id": "rj8d6aoyJ4GJ",
        "colab": {
          "base_uri": "https://localhost:8080/"
        },
        "outputId": "efd4ad7c-03a4-4275-e408-e286b6e0e3f2"
      },
      "source": [
        "# contando mutações pontuais (troca de nucleotídeo)\n",
        "def hamming_distance(s, t):\n",
        "  count = 0\n",
        "  n = 0\n",
        "\n",
        "  while n < len(s):\n",
        "    if s[n] != t[n]:\n",
        "      count += 1\n",
        "    n += 1\n",
        "\n",
        "  return(count)\n",
        "\n",
        "\n",
        "\n",
        "hamming_distance(\"GAGCCTACTAACGGGAT\", \"CATCGTAATGACGGCCT\")"
      ],
      "execution_count": null,
      "outputs": [
        {
          "output_type": "execute_result",
          "data": {
            "text/plain": [
              "7"
            ]
          },
          "metadata": {
            "tags": []
          },
          "execution_count": 104
        }
      ]
    },
    {
      "cell_type": "markdown",
      "metadata": {
        "id": "z_oZufofMKxx"
      },
      "source": [
        "#<font color = \"red\"> 10 IEV *</font>\n",
        "Calculating Expected Offspring\n",
        "\n",
        "http://rosalind.info/problems/iev/\n",
        "\n",
        "1. AA-AA\n",
        "2. AA-Aa\n",
        "3. AA-aa\n",
        "4. Aa-Aa\n",
        "5. Aa-aa\n",
        "6. aa-aa"
      ]
    },
    {
      "cell_type": "code",
      "metadata": {
        "id": "LQgpWaPbLSQU",
        "colab": {
          "base_uri": "https://localhost:8080/"
        },
        "outputId": "f29fc241-d053-4896-e690-989fab346331"
      },
      "source": [
        "#precisa saber cruzamentos\n",
        "def casais(a, b, c, d, e, f):\n",
        "    casal_1 = a * 2\n",
        "    casal_2 = b * 2\n",
        "    casal_3 = c * 2\n",
        "    casal_4 = d * 1.5\n",
        "    casal_5 = e * 1\n",
        "    casal_6 = f * 0\n",
        "\n",
        "    filhos = (casal_1 + casal_2 + casal_3 + \n",
        "              casal_4 + casal_5 + casal_6)\n",
        "    \n",
        "    return filhos\n",
        "\n",
        "\n",
        "\n",
        "casais(1, 0, 0, 1, 0, 1)"
      ],
      "execution_count": null,
      "outputs": [
        {
          "output_type": "execute_result",
          "data": {
            "text/plain": [
              "3.5"
            ]
          },
          "metadata": {
            "tags": []
          },
          "execution_count": 111
        }
      ]
    },
    {
      "cell_type": "markdown",
      "metadata": {
        "id": "P2jQAyh0UOX4"
      },
      "source": [
        "#11 MRNA\n",
        "Inferring mRNA from Protein\n",
        "\n",
        "http://rosalind.info/problems/mrna/"
      ]
    },
    {
      "cell_type": "code",
      "metadata": {
        "id": "iXHufyGRM53Z"
      },
      "source": [
        "# tem ue saber que o código genético é degenerado (um aminoácido pode ser traduzido por mais de um códon, mas um códon traduz apenas um aminoácido)\n",
        "codon_dict = {\"UUU\": \"F\", \"CUU\": \"L\", \"AUU\": \"I\", \"GUU\": \"V\",\n",
        "                  \"UUC\": \"F\", \"CUC\": \"L\", \"AUC\": \"I\", \"GUC\": \"V\",\n",
        "                  \"UUA\": \"L\", \"CUA\": \"L\", \"AUA\": \"I\", \"GUA\": \"V\",\n",
        "                  \"UUG\": \"L\", \"CUG\": \"L\", \"AUG\": \"M\", \"GUG\": \"V\",\n",
        "                  \"UCU\": \"S\", \"CCU\": \"P\", \"ACU\": \"T\", \"GCU\": \"A\",\n",
        "                  \"UCC\": \"S\", \"CCC\": \"P\", \"ACC\": \"T\", \"GCC\": \"A\",\n",
        "                  \"UCA\": \"S\", \"CCA\": \"P\", \"ACA\": \"T\", \"GCA\": \"A\",\n",
        "                  \"UCG\": \"S\", \"CCG\": \"P\", \"ACG\": \"T\", \"GCG\": \"A\",\n",
        "                  \"UAU\": \"Y\", \"CAU\": \"H\", \"AAU\": \"N\", \"GAU\": \"D\",\n",
        "                  \"UAC\": \"Y\", \"CAC\": \"H\", \"AAC\": \"N\", \"GAC\": \"D\",\n",
        "                  \"UAA\": \"Stop\", \"CAA\": \"Q\", \"AAA\": \"K\", \"GAA\": \"E\",\n",
        "                  \"UAG\": \"Stop\", \"CAG\": \"Q\", \"AAG\": \"K\", \"GAG\": \"E\",\n",
        "                  \"UGU\": \"C\", \"CGU\": \"R\", \"AGU\": \"S\", \"GGU\": \"G\",\n",
        "                  \"UGC\": \"C\", \"CGC\": \"R\", \"AGC\": \"S\", \"GGC\": \"G\",\n",
        "                  \"UGA\": \"Stop\", \"CGA\": \"R\", \"AGA\": \"R\", \"GGA\": \"G\",\n",
        "                  \"UGG\": \"W\", \"CGG\": \"R\", \"AGG\": \"R\", \"GGG\": \"G\"}\n"
      ],
      "execution_count": null,
      "outputs": []
    },
    {
      "cell_type": "code",
      "metadata": {
        "id": "5aQpUgRXUuZR"
      },
      "source": [
        "# separando apenas as siglas de cada aminoácido (aa)\n",
        "aa_siglas = [value for key, value in codon_dict.items()]\n"
      ],
      "execution_count": null,
      "outputs": []
    },
    {
      "cell_type": "code",
      "metadata": {
        "id": "7ckXfXe4-6Xr"
      },
      "source": [
        "# contando as siglas\n",
        "quantidade_siglas = {item: aa_siglas.count(item) for item in aa_siglas}\n"
      ],
      "execution_count": null,
      "outputs": []
    },
    {
      "cell_type": "code",
      "metadata": {
        "id": "7ul87zHFTxMy",
        "colab": {
          "base_uri": "https://localhost:8080/"
        },
        "outputId": "b7fa51f9-2fd2-4077-a44e-8260b9b7c8d6"
      },
      "source": [
        "def quantidade_rna(proteina): \n",
        "  quantidade_total = 1\n",
        "\n",
        "  for aa in proteina:\n",
        "    quantidade = quantidade_siglas[aa]\n",
        "    quantidade_total *= quantidade\n",
        "\n",
        "  # multiplica o resultado por 3, pois há 3 stop codons possíveis\n",
        "  return (quantidade_total * 3) % 10**6\n",
        "\n",
        "\n",
        "\n",
        "quantidade_rna(\"MA\")"
      ],
      "execution_count": null,
      "outputs": [
        {
          "output_type": "execute_result",
          "data": {
            "text/plain": [
              "12"
            ]
          },
          "metadata": {
            "tags": []
          },
          "execution_count": 10
        }
      ]
    },
    {
      "cell_type": "code",
      "metadata": {
        "id": "uY0FJ2Gf_3pZ"
      },
      "source": [
        "################# simplificado ###########\n",
        "import pandas as pd"
      ],
      "execution_count": null,
      "outputs": []
    },
    {
      "cell_type": "code",
      "metadata": {
        "id": "rpn0OFXL_64V"
      },
      "source": [
        "aa_siglas = pd.Series(aa_siglas)"
      ],
      "execution_count": null,
      "outputs": []
    },
    {
      "cell_type": "code",
      "metadata": {
        "id": "awtY-c8Q__S_"
      },
      "source": [
        "quant_siglas = aa_siglas.value_counts()"
      ],
      "execution_count": null,
      "outputs": []
    },
    {
      "cell_type": "code",
      "metadata": {
        "id": "A0YrbxQlAZSO",
        "colab": {
          "base_uri": "https://localhost:8080/"
        },
        "outputId": "bdd1587b-7dd8-41be-dee0-d2b492d7550b"
      },
      "source": [
        "def quant_rna(proteina): \n",
        "  quantidade_total = 1\n",
        "\n",
        "  for aa in proteina:\n",
        "    quantidade = quant_siglas[aa]\n",
        "    quantidade_total *= quantidade\n",
        "\n",
        "  # multiplica o resultado por 3, pois há 3 stop codons possíveis\n",
        "  return (quantidade_total * 3) % 10**6\n",
        "\n",
        "\n",
        "\n",
        "quant_rna(\"MA\")"
      ],
      "execution_count": null,
      "outputs": [
        {
          "output_type": "execute_result",
          "data": {
            "text/plain": [
              "12"
            ]
          },
          "metadata": {
            "tags": []
          },
          "execution_count": 27
        }
      ]
    },
    {
      "cell_type": "markdown",
      "metadata": {
        "id": "x0_PbDmdX2VK"
      },
      "source": [
        "#12 PRTM\n",
        "Calculating Protein Mass\n",
        "\n",
        "http://rosalind.info/problems/prtm/"
      ]
    },
    {
      "cell_type": "code",
      "metadata": {
        "id": "O5AwopWkVYY4"
      },
      "source": [
        "massa_prot = {\"A\": 71.03711, \"C\": 103.00919, \"D\": 115.02694, \"E\": 129.04259,\n",
        "                  \"F\": 147.06841, \"G\": 57.02146, \"H\": 137.05891, \"I\": 113.08406, \n",
        "                  \"K\": 128.09496, \"L\": 113.08406, \"M\": 131.04049, \"N\": 114.04293, \n",
        "                  \"P\": 97.05276, \"Q\": 128.05858, \"R\": 156.10111, \"S\": 87.03203, \n",
        "                  \"T\": 101.04768, \"V\": 99.06841, \"W\": 186.07931, \"Y\": 163.06333}"
      ],
      "execution_count": null,
      "outputs": []
    },
    {
      "cell_type": "code",
      "metadata": {
        "id": "I-hn1LYFY5GU",
        "colab": {
          "base_uri": "https://localhost:8080/"
        },
        "outputId": "1724ce9b-078b-4cc6-a88d-f46420475f82"
      },
      "source": [
        "def massa_proteina(proteina):\n",
        "    massa_total = 0\n",
        "\n",
        "    for aa in proteina:\n",
        "        massa = massa_prot[aa]\n",
        "        massa_total +=  massa\n",
        "\n",
        "    return massa_total\n",
        "\n",
        "\n",
        "\n",
        "massa_proteina(\"SKADYEK\")"
      ],
      "execution_count": null,
      "outputs": [
        {
          "output_type": "execute_result",
          "data": {
            "text/plain": [
              "821.3919199999999"
            ]
          },
          "metadata": {
            "tags": []
          },
          "execution_count": 179
        }
      ]
    },
    {
      "cell_type": "markdown",
      "metadata": {
        "id": "ebO5_kyaEvOB"
      },
      "source": [
        "#13 TRAN\n",
        "Transitions and Transversions\n",
        "\n",
        "http://rosalind.info/problems/tran/"
      ]
    },
    {
      "cell_type": "code",
      "metadata": {
        "id": "3HCSJCT8E6KY"
      },
      "source": [
        "arquivo = SeqIO.parse(\"/content/rosalind_tran (1).txt\", \"fasta\")"
      ],
      "execution_count": null,
      "outputs": []
    },
    {
      "cell_type": "code",
      "metadata": {
        "id": "bmJhFdWoFoku",
        "colab": {
          "base_uri": "https://localhost:8080/"
        },
        "outputId": "710ab48f-eb7b-4d0e-c861-c57b0847b984"
      },
      "source": [
        "for i in arquivo:\n",
        "  print(i.seq)"
      ],
      "execution_count": null,
      "outputs": [
        {
          "output_type": "stream",
          "text": [
            "GACCGCTGTGTACCACCGGTGTATGATGTTACACGACGGATTGAAGCATGTTCTCGTTTTATCAACAACGTCGGCAATAATCAGTACTAGAACTCTATGATATCGCGAATTCATAAATGAAAACCCCTCAGGGACACCAGTTGATCGGTACCAGGAAGCGGAGCGTTATCCCCATGGTTGGATATGCACTTGATGCTAATCGAAAGTATTTAAGACCTCGTTAAACTTGGCGCCCGGACACTGCCAACTAAGGATCGGGGAGAAGTCGTGAATTCAGTCCTGCTGATCGAGCCGGATCGAAGGGGCCCCCTAATTAGAAACAGACCTCAAAAAATACGACAGCGGGGTCTCTGCGTCAACCTCCATCGTCACCCGCACGATGAATATTATCACGTCTTCAGAGTTCGTAAGATGAGGCGTACCGTCCTTTTCGTCTCGTCTGATATTTAGCCGTGCTAGCAAGTGGTCCTAGTTAGAGATAACTCGACTATGCCGCTGCTTTGGACGGTGAAAAAGGCCCGTTACTGGATAAGTGTTAGTGGGATAAAGTGATAACATCTCTAGATTCAAACCCCCCCTTTTAGTTCAAGTGCCATACTATGTTAAGTCCCACTGTACCCCGACTCTTAGGACAACAGAAGGATGATGAAACAGACGGCTCGTTCCGCCCCCCAGGTGGCGCTGCCGCGTCGCTGTCCCCTACCAGTATGTTTATACTAAACTCCTCGGGTAAGACCGCTGCATCTGCTTGCTCTCGCTAGGAGTACAGGGGTGTAGGCCACGAGAACGAATGACCAATTCCACGGCAGCTGGCCAAGCGCCACGATAAAAGTTTCTACGGCCGACTATTAATTTAAAGTTGCTATTTGGCGTCTGAGGGATCACCCCCCTCCAAAAATTCTGGTAATTGCG\n",
            "GCCCACTGTTGGCCACCGGTGTCTGGTGTTACACAAAGCAATAAGATATGTTTTGGGTCCAGCAATACTATCGGCGATATCTAGTACTAGAACTCCATGGTCGCGCTAATTCATAAATGAACACTCTTCAGGGCCAGCCGGTAATCAGCGGCAAAAAATGGCACGCTCTCCCCGCGGTCGAATATGCACTTAATGCCGGTCGAAAATGTTTAAGATCCTGTCAAGCCTTGGGTCCGGACACCGCTAATTACTGAAGGTGTAAAAGTTGTGTATTCAGTCCAGCTGGTCGGGCTTGGCTGAAGGGGGCCCCTACTTAAAACCAGACCTCAAAAAATACGACAGCAGGGCTGCTGCAGCGGCTCATGTTTTCGCTCGGGCGCTGGGCATTATCACGTCTCCAAAGTTTATCAGATGACGGAGGCGGTCTTTTTAGCCCCGTCTGACATGTAGTTGTGCTAGCAAGTTGTCTTCGCAAGAAATCCCGTGATTCCCCCGCGGCTGTGGACTTCGAAGTTACCTCGTCACTGGGCAAGTATTTGTAGAGTGGAGTAGTAACATCTTCAGATTCAAGGCGCTATTTCCATTTCAGGTACCACATCCTTGTAAGTCCTGCTGTCTACTAACTCTTAGGACTGCAGCACACTGGTAAAGCGGTAGGAACATCCCGCCCCCCAGGAGGCGCCGACATTCTGCTAACGCCTATAAGTGTGGTTGTATCAGATTTTCCGGGTGCGACCGCAGCATCCATATCCGTCCATCAGGAATACAGCAATATAGGTTATGAGAAAGTACGCACTACTCCACGGCAAAAGTCCAAGAGCTGCTATAACAGTTGCATTGGTCGACAATCATTGTAAAGTTGCCATTTGACGTACGACAGATCTCTCCTCTCCAAAAAATCCGGCATTTGGA\n"
          ],
          "name": "stdout"
        }
      ]
    },
    {
      "cell_type": "code",
      "metadata": {
        "id": "Y6KSwyRIFqCC"
      },
      "source": [
        "seq1 = \"GCAACGCACAACGAAAACCCTTAGGGACTGGATTATTTCGTGATCGTTGTAGTTATTGGAAGTACGGGCATCAACCCAGTT\""
      ],
      "execution_count": null,
      "outputs": []
    },
    {
      "cell_type": "code",
      "metadata": {
        "id": "_Y6WoaD6GtYf"
      },
      "source": [
        "seq2= \"TTATCTGACAAAGAAAGCCGTCAACGGCTGGATAATTTCGCGATCGTGCTGGTTACTGGCGGTACGAGTGTTCCTTTGGGT\""
      ],
      "execution_count": null,
      "outputs": []
    },
    {
      "cell_type": "code",
      "metadata": {
        "id": "7ArYfCgkGyOQ",
        "colab": {
          "base_uri": "https://localhost:8080/"
        },
        "outputId": "088dae7a-7dbb-4533-d344-a2e16832986c"
      },
      "source": [
        "transicao = 0\n",
        "transversao = 0\n",
        "n = 0\n",
        "\n",
        "while n < (len(seq1)):\n",
        "  if seq1[n] == seq2[n]:\n",
        "    n += 1\n",
        "  elif (seq1[n] == \"A\" and seq2[n] == \"G\") or (seq1[n] == \"G\" and seq2[n] == \"A\"):\n",
        "    transicao += 1\n",
        "    n += 1\n",
        "  elif (seq1[n] == \"T\" and seq2[n] == \"C\") or (seq1[n] == \"C\" and seq2[n] == \"T\"):\n",
        "    transicao += 1\n",
        "    n += 1\n",
        "  else:\n",
        "    transversao += 1\n",
        "    n += 1\n",
        "\n",
        "print(transicao/transversao)\n",
        "\n",
        "\n",
        "\n"
      ],
      "execution_count": null,
      "outputs": [
        {
          "output_type": "stream",
          "text": [
            "1.2142857142857142\n"
          ],
          "name": "stdout"
        }
      ]
    },
    {
      "cell_type": "markdown",
      "metadata": {
        "id": "n1IywAt1mgo9"
      },
      "source": [
        "# <font color=\"red\"> 14 SSEQ *\n",
        "\n",
        "Finding a Spliced Motif \n",
        "\n",
        "http://rosalind.info/problems/sseq/"
      ]
    },
    {
      "cell_type": "code",
      "metadata": {
        "id": "j8rkYvfcIR4Q"
      },
      "source": [
        "records = list(SeqIO.parse(\"/content/rosalind_sseq (2).txt\", \"fasta\"))\n",
        "s = str(records[0].seq)  #  seq\n",
        "t = str(records[-1].seq)  # subseq"
      ],
      "execution_count": null,
      "outputs": []
    },
    {
      "cell_type": "code",
      "metadata": {
        "id": "7Ea3ELjinBXC"
      },
      "source": [
        "s = \"ACGTACGTGACG\"\n",
        "t = \"GTA\""
      ],
      "execution_count": null,
      "outputs": []
    },
    {
      "cell_type": "code",
      "metadata": {
        "id": "HWSOafgKm0qd",
        "colab": {
          "base_uri": "https://localhost:8080/"
        },
        "outputId": "e25f2caa-2e4e-496a-ae19-1f5f37895e2a"
      },
      "source": [
        "def spliced_motif(s,t):\n",
        "  # lista para armazenar os índices (indice + 1)\n",
        "  posicoes = []\n",
        "\n",
        "  start = 0\n",
        "\n",
        "  # percorrer cada nucleoídeo de 't'\n",
        "  for n in t:\n",
        "\n",
        "    # achar a primeira ocorrência de 'n' em 's'\n",
        "    pos = s.find(n, start)\n",
        "\n",
        "    # adicionar pos na lista, somando 1\n",
        "    posicoes.append(pos + 1)\n",
        "\n",
        "    # alterando o início da leitura\n",
        "    start = pos + 1\n",
        "\n",
        "  for indices in posicoes:\n",
        "    print(indices, end=\" \")\n",
        "\n",
        "\n",
        "\n",
        "spliced_motif(s,t)"
      ],
      "execution_count": null,
      "outputs": [
        {
          "output_type": "stream",
          "text": [
            "3 4 5 "
          ],
          "name": "stdout"
        }
      ]
    },
    {
      "cell_type": "markdown",
      "metadata": {
        "id": "rUy_4UE8CCq1"
      },
      "source": [
        "#<font color=\"red\">15 REVP ***\n",
        "\n",
        "Locating Restriction Sites\n",
        "\n",
        "http://rosalind.info/problems/revp/\n",
        "\n",
        "**Implementar  :|**"
      ]
    },
    {
      "cell_type": "code",
      "metadata": {
        "id": "DNeT-0wiCsiG",
        "colab": {
          "base_uri": "https://localhost:8080/"
        },
        "outputId": "2ff5ea21-9959-4e7b-e59b-5195cef0fbcb"
      },
      "source": [
        "!pip install biopython"
      ],
      "execution_count": null,
      "outputs": [
        {
          "output_type": "stream",
          "text": [
            "Collecting biopython\n",
            "\u001b[?25l  Downloading https://files.pythonhosted.org/packages/76/02/8b606c4aa92ff61b5eda71d23b499ab1de57d5e818be33f77b01a6f435a8/biopython-1.78-cp36-cp36m-manylinux1_x86_64.whl (2.3MB)\n",
            "\u001b[K     |████████████████████████████████| 2.3MB 6.7MB/s \n",
            "\u001b[?25hRequirement already satisfied: numpy in /usr/local/lib/python3.6/dist-packages (from biopython) (1.18.5)\n",
            "Installing collected packages: biopython\n",
            "Successfully installed biopython-1.78\n"
          ],
          "name": "stdout"
        }
      ]
    },
    {
      "cell_type": "code",
      "metadata": {
        "id": "8_Z_RnTrCrql"
      },
      "source": [
        "from Bio import SeqIO"
      ],
      "execution_count": null,
      "outputs": []
    },
    {
      "cell_type": "code",
      "metadata": {
        "id": "R4Vl9r9BCRgo"
      },
      "source": [
        "# obtendo a sequência do arquivo FASTA\n",
        "records = list(SeqIO.parse(\"/content/rosalind_revp.txt\", \"fasta\"))\n",
        "seq = str(records[0].seq)  \n"
      ],
      "execution_count": null,
      "outputs": []
    },
    {
      "cell_type": "code",
      "metadata": {
        "id": "9CXPnAK7DAPt"
      },
      "source": [
        "# obtendo a sequência complementar \n",
        "def dna_complementar(seq):\n",
        "    dna_c = []\n",
        "    substituicoes = {\"A\":\"T\",\"T\":\"A\",\"C\":\"G\",\"G\":\"C\"}\n",
        "\n",
        "    for n in seq:\n",
        "        dna_c.append(substituicoes[n])\n",
        "    return(''.join(dna_c))"
      ],
      "execution_count": null,
      "outputs": []
    },
    {
      "cell_type": "code",
      "metadata": {
        "id": "Lg3LTptiCo2b"
      },
      "source": [
        "seq_c = dna_complementar(seq)"
      ],
      "execution_count": null,
      "outputs": []
    }
  ]
}