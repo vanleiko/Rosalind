{
  "nbformat": 4,
  "nbformat_minor": 0,
  "metadata": {
    "colab": {
      "name": "Calculating-Expected-Offspring.ipynb",
      "provenance": [],
      "authorship_tag": "ABX9TyN2dtf/c3aaeiQk/+L8Wc1q"
    },
    "kernelspec": {
      "name": "python3",
      "display_name": "Python 3"
    }
  },
  "cells": [
    {
      "cell_type": "markdown",
      "metadata": {
        "id": "DrO0d2GXmxRj"
      },
      "source": [
        "#**Calculating Expected Offspring**\r\n",
        "\r\n",
        "http://rosalind.info/problems/iev/"
      ]
    },
    {
      "cell_type": "markdown",
      "metadata": {
        "id": "XlbWjkqkm2DM"
      },
      "source": [
        "Given: Six nonnegative integers, each of which does not exceed 20,000. The integers correspond to the number of couples in a population possessing each genotype pairing for a given factor. In order, the six given integers represent the number of couples having the following genotypes:\r\n",
        "\r\n",
        "AA-AA\r\n",
        "\r\n",
        "AA-Aa\r\n",
        "\r\n",
        "AA-aa\r\n",
        "\r\n",
        "Aa-Aa\r\n",
        "\r\n",
        "Aa-aa\r\n",
        "\r\n",
        "aa-aa\r\n",
        "\r\n",
        "Return: The expected number of offspring displaying the dominant phenotype in the next generation, under the assumption that every couple has exactly two offspring."
      ]
    },
    {
      "cell_type": "code",
      "metadata": {
        "id": "FscGAMLYnxS2"
      },
      "source": [
        "a = 1 \r\n",
        "b = 0 \r\n",
        "c = 0 \r\n",
        "d = 1 \r\n",
        "e = 0 \r\n",
        "f = 1"
      ],
      "execution_count": 5,
      "outputs": []
    },
    {
      "cell_type": "code",
      "metadata": {
        "id": "h1yzZEJFmvJL"
      },
      "source": [
        "# função retorna a quantidade de filhos que tem o fenótipo dominante (cada casal tem 2 filhos)\r\n",
        "def fenotipo_dominante(a, b, c, d, e, f):\r\n",
        "\r\n",
        "    casal_1 = a * 2     # prole 100% dominante\r\n",
        "    casal_2 = b * 2     # prole 100% dominante\r\n",
        "    casal_3 = c * 2     # prole 100% dominante\r\n",
        "    casal_4 = d * 1.5   # prole 75% dominante\r\n",
        "    casal_5 = e * 1     # prole 50% dominante\r\n",
        "    casal_6 = f * 0     # prole 0% dominante\r\n",
        "\r\n",
        "    filhos_genotipo_dominante = (casal_1 + casal_2 + casal_3 +\r\n",
        "                                 casal_4 + casal_5 + casal_6)\r\n",
        "    \r\n",
        "    return filhos_genotipo_dominante"
      ],
      "execution_count": 4,
      "outputs": []
    },
    {
      "cell_type": "code",
      "metadata": {
        "colab": {
          "base_uri": "https://localhost:8080/"
        },
        "id": "SpjRZqPCn3wj",
        "outputId": "190ea162-37d7-448c-ea83-81e036b3640c"
      },
      "source": [
        "# chamando a função\r\n",
        "fenotipo_dominante(a, b, c, d, e, f)"
      ],
      "execution_count": 6,
      "outputs": [
        {
          "output_type": "execute_result",
          "data": {
            "text/plain": [
              "3.5"
            ]
          },
          "metadata": {
            "tags": []
          },
          "execution_count": 6
        }
      ]
    }
  ]
}