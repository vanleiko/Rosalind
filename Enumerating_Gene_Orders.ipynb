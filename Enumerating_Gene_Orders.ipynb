{
  "nbformat": 4,
  "nbformat_minor": 0,
  "metadata": {
    "colab": {
      "name": "Enumerating-Gene-Orders.ipynb",
      "provenance": [],
      "authorship_tag": "ABX9TyMLy/lXkp+viSM5sTD7dVf4"
    },
    "kernelspec": {
      "name": "python3",
      "display_name": "Python 3"
    }
  },
  "cells": [
    {
      "cell_type": "markdown",
      "metadata": {
        "id": "77oqzi26S3ZI"
      },
      "source": [
        "#**Enumerating Gene Orders**\r\n",
        "\r\n",
        "http://rosalind.info/problems/perm/"
      ]
    },
    {
      "cell_type": "markdown",
      "metadata": {
        "id": "410aNkXxS8TV"
      },
      "source": [
        "Given: A positive integer n≤7.\r\n",
        "\r\n",
        "Return: The total number of permutations of length n, followed by a list of all such permutations (in any order)."
      ]
    },
    {
      "cell_type": "code",
      "metadata": {
        "id": "Nbr9EkRhTr1Y"
      },
      "source": [
        "n = 3"
      ],
      "execution_count": null,
      "outputs": []
    },
    {
      "cell_type": "code",
      "metadata": {
        "id": "XWhkNdbwTW9x"
      },
      "source": [
        "# calcula fatorial de n (quantas permutas serão)\r\n",
        "def fatorial(n):\r\n",
        "  fatorial = 1\r\n",
        "\r\n",
        "  for num in range(1, n+1):\r\n",
        "    fatorial *= num\r\n",
        "\r\n",
        "  return fatorial"
      ],
      "execution_count": 6,
      "outputs": []
    },
    {
      "cell_type": "code",
      "metadata": {
        "colab": {
          "base_uri": "https://localhost:8080/"
        },
        "id": "6zrUC4D2TpQ7",
        "outputId": "53b8c6e6-b00f-47a2-b155-4591a5e4903e"
      },
      "source": [
        "# chamando a função\r\n",
        "fatorial(n)"
      ],
      "execution_count": 7,
      "outputs": [
        {
          "output_type": "execute_result",
          "data": {
            "text/plain": [
              "6"
            ]
          },
          "metadata": {
            "tags": []
          },
          "execution_count": 7
        }
      ]
    },
    {
      "cell_type": "code",
      "metadata": {
        "id": "HnkDhqZDSz1Y"
      },
      "source": [
        "# cria uma lista com inteiros de 1 até n\r\n",
        "def retorna_inteiros(n):\r\n",
        "\r\n",
        "  elementos = list(range(1, n+1))\r\n",
        "\r\n",
        "  return elementos"
      ],
      "execution_count": 3,
      "outputs": []
    },
    {
      "cell_type": "code",
      "metadata": {
        "colab": {
          "base_uri": "https://localhost:8080/"
        },
        "id": "S655lXdPTUUH",
        "outputId": "b37ff224-7ca6-47e1-8e6b-64ead9938b57"
      },
      "source": [
        "# chamando a função\r\n",
        "elementos = retorna_inteiros(n)\r\n",
        "\r\n",
        "print(elementos)"
      ],
      "execution_count": 8,
      "outputs": [
        {
          "output_type": "stream",
          "text": [
            "[1, 2, 3]\n"
          ],
          "name": "stdout"
        }
      ]
    },
    {
      "cell_type": "code",
      "metadata": {
        "id": "nt2qnCM3T0TH"
      },
      "source": [
        "# fazer a permuta dos elementos\r\n",
        "import itertools\r\n",
        "\r\n",
        "def gera_permutas(elementos):\r\n",
        "\r\n",
        "  resultado = list(itertools.permutations(elementos))\r\n",
        "\r\n",
        "  return resultado"
      ],
      "execution_count": 9,
      "outputs": []
    },
    {
      "cell_type": "code",
      "metadata": {
        "id": "kSFtG8OAUBwj"
      },
      "source": [
        "# chamando a função\r\n",
        "permutas = gera_permutas(elementos)"
      ],
      "execution_count": 11,
      "outputs": []
    },
    {
      "cell_type": "code",
      "metadata": {
        "colab": {
          "base_uri": "https://localhost:8080/"
        },
        "id": "8KMtkCNaUFEe",
        "outputId": "cc6da966-d5ab-4b85-fb0b-02c1b193b01c"
      },
      "source": [
        "for item in permutas:\r\n",
        "  for elemento in item:\r\n",
        "    print(elemento, end=\" \")\r\n",
        "  print(\"\\n\")"
      ],
      "execution_count": 12,
      "outputs": [
        {
          "output_type": "stream",
          "text": [
            "1 2 3 \n",
            "\n",
            "1 3 2 \n",
            "\n",
            "2 1 3 \n",
            "\n",
            "2 3 1 \n",
            "\n",
            "3 1 2 \n",
            "\n",
            "3 2 1 \n",
            "\n"
          ],
          "name": "stdout"
        }
      ]
    }
  ]
}