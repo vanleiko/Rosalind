{
  "nbformat": 4,
  "nbformat_minor": 0,
  "metadata": {
    "colab": {
      "name": "Finding-a-Shared-Motif.ipynb",
      "provenance": [],
      "authorship_tag": "ABX9TyPeLkDWumd0969C8/seeA7E"
    },
    "kernelspec": {
      "name": "python3",
      "display_name": "Python 3"
    }
  },
  "cells": [
    {
      "cell_type": "markdown",
      "metadata": {
        "id": "j3AHMkwuWRYF"
      },
      "source": [
        "#**Finding a Shared Motif**\r\n",
        "\r\n",
        "http://rosalind.info/problems/lcsm/"
      ]
    },
    {
      "cell_type": "markdown",
      "metadata": {
        "id": "gr6jkMQXWXgd"
      },
      "source": [
        "Given: A collection of k (k≤100) DNA strings of length at most 1 kbp each in FASTA format.\r\n",
        "\r\n",
        "Return: A longest common substring of the collection. (If multiple solutions exist, you may return any single solution.)"
      ]
    },
    {
      "cell_type": "code",
      "metadata": {
        "colab": {
          "base_uri": "https://localhost:8080/"
        },
        "id": "0wOkyKONSStt",
        "outputId": "c3dc5889-0d6b-4057-813f-0c8f2a895a4a"
      },
      "source": [
        "!pip install biopython"
      ],
      "execution_count": 1,
      "outputs": [
        {
          "output_type": "stream",
          "text": [
            "Collecting biopython\n",
            "\u001b[?25l  Downloading https://files.pythonhosted.org/packages/76/02/8b606c4aa92ff61b5eda71d23b499ab1de57d5e818be33f77b01a6f435a8/biopython-1.78-cp36-cp36m-manylinux1_x86_64.whl (2.3MB)\n",
            "\u001b[K     |████████████████████████████████| 2.3MB 6.2MB/s \n",
            "\u001b[?25hRequirement already satisfied: numpy in /usr/local/lib/python3.6/dist-packages (from biopython) (1.19.4)\n",
            "Installing collected packages: biopython\n",
            "Successfully installed biopython-1.78\n"
          ],
          "name": "stdout"
        }
      ]
    },
    {
      "cell_type": "code",
      "metadata": {
        "id": "_mEL-ltTWqYB"
      },
      "source": [
        "from Bio import SeqIO"
      ],
      "execution_count": 2,
      "outputs": []
    },
    {
      "cell_type": "code",
      "metadata": {
        "id": "AnhBaIaQWiHq"
      },
      "source": [
        "arquivo = SeqIO.parse(\"/content/lcsm.txt\", \"fasta\")"
      ],
      "execution_count": 111,
      "outputs": []
    },
    {
      "cell_type": "code",
      "metadata": {
        "id": "-6aUPrQ_hfvG"
      },
      "source": [
        "# lista que irá receber as sequências\r\n",
        "\r\n",
        "lista_sequencias = []"
      ],
      "execution_count": 112,
      "outputs": []
    },
    {
      "cell_type": "code",
      "metadata": {
        "id": "3uZCMPUchUxj"
      },
      "source": [
        "# extraindo as sequências e adicionando-as à lista\r\n",
        "\r\n",
        "for item in arquivo:\r\n",
        "  lista_sequencias.append(item.seq)"
      ],
      "execution_count": 113,
      "outputs": []
    },
    {
      "cell_type": "code",
      "metadata": {
        "id": "xBse5bKOesSY"
      },
      "source": [
        "# selecionar a sequência de menor tamanho \r\n",
        "\r\n",
        "menor_seq = lista_sequencias[0]   # supor que a menor seq seja a primeria da lista\r\n",
        "\r\n",
        "for sequencia in lista_sequencias:\r\n",
        "  if len(sequencia) < len(menor_seq):\r\n",
        "    menor_seq = sequencia"
      ],
      "execution_count": 114,
      "outputs": []
    },
    {
      "cell_type": "code",
      "metadata": {
        "id": "_j9qyDJ2iidR"
      },
      "source": [
        "# adicionar a menor sequência no início da lista (removi ela da lista e adicionei na posição 0)\r\n",
        "\r\n",
        "lista_sequencias.remove(menor_seq)\r\n",
        "lista_sequencias.insert(0, menor_seq)"
      ],
      "execution_count": 115,
      "outputs": []
    },
    {
      "cell_type": "code",
      "metadata": {
        "id": "ZCjBlMvvWxgT"
      },
      "source": [
        "# lista irá receber todas as possíveis substrings (= motifs) criadas a partir da menor sequência  \r\n",
        "lista_motifs = []"
      ],
      "execution_count": 116,
      "outputs": []
    },
    {
      "cell_type": "code",
      "metadata": {
        "id": "znPLY_foWyqq"
      },
      "source": [
        "# iniciar o tamanho do motif igual ao tamanho da menor sequência e ir diminuindo seu tamanho até 2\r\n",
        "\r\n",
        "tamanho_menor_seq = len(menor_seq)\r\n",
        "tamanho_motif = tamanho_menor_seq\r\n",
        "\r\n",
        "# gerar os motifs de tamanhos: 2 >= motif <= tamanho_menor_seq\r\n",
        "while tamanho_motif >= 2:\r\n",
        "\r\n",
        "  for pos in range(tamanho_menor_seq - tamanho_motif + 1):    \r\n",
        "    motif = menor_seq[pos:pos+tamanho_motif]   # janela de leitura na sequência para criar o motif\r\n",
        "    lista_motifs.append(motif)    # adicionar o motif à lista\r\n",
        "\r\n",
        "  tamanho_motif -= 1    # reduzir o tamanho do motif em 1"
      ],
      "execution_count": 117,
      "outputs": []
    },
    {
      "cell_type": "code",
      "metadata": {
        "colab": {
          "base_uri": "https://localhost:8080/"
        },
        "id": "Hji4ZEhXYaph",
        "outputId": "11b52a35-97ba-49e8-811a-b4dbd5facf71"
      },
      "source": [
        "# agora checar se os motifs (de maneira decrescente) estão presentes nas demais sequências\r\n",
        "# o objetivo é pegar o maior motif comum a todas as sequências\r\n",
        "\r\n",
        "count = 1   # começa na sequência da posição 1 da lista e vai contando até chegar na última sequencia\r\n",
        "\r\n",
        "for motif in lista_motifs:\r\n",
        "\r\n",
        "  while count <= (len(lista_sequencias)-1):    # -1 pois não comparamos com a menor sequências \r\n",
        "\r\n",
        "    if motif in lista_sequencias[count]:     \r\n",
        "      count += 1\r\n",
        "      maior_motif_comum = motif\r\n",
        "    else:\r\n",
        "      count = 1\r\n",
        "      break\r\n",
        "\r\n",
        "print(maior_motif_comum)  \r\n",
        "      "
      ],
      "execution_count": 118,
      "outputs": [
        {
          "output_type": "stream",
          "text": [
            "TA\n"
          ],
          "name": "stdout"
        }
      ]
    },
    {
      "cell_type": "code",
      "metadata": {
        "colab": {
          "base_uri": "https://localhost:8080/"
        },
        "id": "MTaNUnSrZMSp",
        "outputId": "9b8c8c51-ff0f-4399-9b92-ac41f315120a"
      },
      "source": [
        "print(len(maior_motif_comum))  "
      ],
      "execution_count": 119,
      "outputs": [
        {
          "output_type": "stream",
          "text": [
            "2\n"
          ],
          "name": "stdout"
        }
      ]
    },
    {
      "cell_type": "markdown",
      "metadata": {
        "id": "EsBP32uqnA6L"
      },
      "source": [
        "**Resumo do código acima em uma função \" finding_shared_motif \" :**"
      ]
    },
    {
      "cell_type": "code",
      "metadata": {
        "id": "eZVAahoYnC09"
      },
      "source": [
        "# extrair as sequências do arquivo que recebeu o FASTA\r\n",
        "\r\n",
        "def extrai_sequencias(arquivo):\r\n",
        "\r\n",
        "  lista_sequencias = [item.seq for item in arquivo]\r\n",
        "\r\n",
        "  return lista_sequencias\r\n"
      ],
      "execution_count": 130,
      "outputs": []
    },
    {
      "cell_type": "code",
      "metadata": {
        "id": "nhdyN0X3nj5u"
      },
      "source": [
        "# selecionar a menor sequência da lista de sequências e devolve ela na posição 0 da lista\r\n",
        "\r\n",
        "def lista_menor_sequencia_comeco(lista_sequencias):\r\n",
        "  \r\n",
        "  menor_seq = lista_sequencias[0]  \r\n",
        "\r\n",
        "  for sequencia in lista_sequencias:\r\n",
        "    if len(sequencia) < len(menor_seq):\r\n",
        "      menor_seq = sequencia\r\n",
        "\r\n",
        "  lista_sequencias.remove(menor_seq)\r\n",
        "  lista_sequencias.insert(0, menor_seq)\r\n",
        "  \r\n",
        "  return lista_sequencias"
      ],
      "execution_count": 131,
      "outputs": []
    },
    {
      "cell_type": "code",
      "metadata": {
        "id": "DN1w50xEoKpd"
      },
      "source": [
        "# gerar as substrings da menor sequências\r\n",
        "\r\n",
        "def gera_substrings(lista_sequencias):\r\n",
        "\r\n",
        "  lista_motifs = []\r\n",
        "  menor_seq = lista_sequencias[0]  \r\n",
        "  tamanho_menor_seq = len(menor_seq)\r\n",
        "  tamanho_motif = tamanho_menor_seq\r\n",
        "\r\n",
        "  while tamanho_motif >= 2:\r\n",
        "\r\n",
        "    for pos in range(tamanho_menor_seq - tamanho_motif + 1):    \r\n",
        "      motif = menor_seq[pos:pos+tamanho_motif]   \r\n",
        "      lista_motifs.append(motif)    \r\n",
        "\r\n",
        "    tamanho_motif -= 1  \r\n",
        "\r\n",
        "  return lista_motifs"
      ],
      "execution_count": 132,
      "outputs": []
    },
    {
      "cell_type": "code",
      "metadata": {
        "id": "E-Ur2-IIowC-"
      },
      "source": [
        "# procurar pelo maior motifs comum a todas as sequências (exceto a primeira)\r\n",
        "\r\n",
        "def gera_maior_substring_comum(lista_motifs, lista_sequencias):\r\n",
        "  count = 1  \r\n",
        "\r\n",
        "  for motif in lista_motifs:\r\n",
        "\r\n",
        "    while count <= (len(lista_sequencias)-1):   \r\n",
        "\r\n",
        "      if motif in lista_sequencias[count]:     \r\n",
        "        count += 1\r\n",
        "        maior_motif_comum = motif\r\n",
        "\r\n",
        "      else:\r\n",
        "        count = 1\r\n",
        "        break\r\n",
        "\r\n",
        "  return(maior_motif_comum)  "
      ],
      "execution_count": 133,
      "outputs": []
    },
    {
      "cell_type": "code",
      "metadata": {
        "id": "6BhtMWCjpG9T"
      },
      "source": [
        "# FUNÇÃO PRINCIPAL\r\n",
        "\r\n",
        "arquivo = arquivo = SeqIO.parse(\"/content/rosalind_lcsm (3).txt\", \"fasta\")\r\n",
        "\r\n",
        "def finding_shared_motif(arquivo):\r\n",
        "\r\n",
        "  lista_sequencias = extrai_sequencias(arquivo)\r\n",
        "  lista_sequencias2 = lista_menor_sequencia_comeco(lista_sequencias)\r\n",
        "  lista_motifs = gera_substrings(lista_sequencias2)\r\n",
        "  maior_substring = gera_maior_substring_comum(lista_motifs, lista_sequencias2)\r\n",
        "\r\n",
        "  return str(maior_substring)"
      ],
      "execution_count": 141,
      "outputs": []
    },
    {
      "cell_type": "code",
      "metadata": {
        "colab": {
          "base_uri": "https://localhost:8080/",
          "height": 52
        },
        "id": "o4sMYWF6p6rg",
        "outputId": "53da55e6-0eb8-47b3-f7b3-055adc465e30"
      },
      "source": [
        "finding_shared_motif(arquivo)"
      ],
      "execution_count": 142,
      "outputs": [
        {
          "output_type": "execute_result",
          "data": {
            "application/vnd.google.colaboratory.intrinsic+json": {
              "type": "string"
            },
            "text/plain": [
              "'TCGTCTGATACCCACATGCCAGTGGTAGGTCTAATCCTGGCCCTGTGCCCGTTGCGCGGACTGGAAATCGTACATCTACATGCCATCTCACGGCGCTCGGTTACTACGGCAAGGAGCCCAGTGTCCAGGCAACAATCCCAGTAGATGTGGGTGCCCGGCCTTGCTGGTAAGCGCGGCTAATGTAAATCCTCGGTGCCGCCCCATCATGC'"
            ]
          },
          "metadata": {
            "tags": []
          },
          "execution_count": 142
        }
      ]
    }
  ]
}