{
  "nbformat": 4,
  "nbformat_minor": 0,
  "metadata": {
    "colab": {
      "name": "Complementing-a-Strand-of-DNA.ipynb",
      "provenance": [],
      "authorship_tag": "ABX9TyNMBKvMZ9AksrDw7HTx12ne"
    },
    "kernelspec": {
      "name": "python3",
      "display_name": "Python 3"
    }
  },
  "cells": [
    {
      "cell_type": "markdown",
      "metadata": {
        "id": "MHCo8fAZaONn"
      },
      "source": [
        "#**Complementing a Strand of DNA**\r\n",
        "\r\n",
        "http://rosalind.info/problems/revc/"
      ]
    },
    {
      "cell_type": "markdown",
      "metadata": {
        "id": "wRT3lDSwaOtQ"
      },
      "source": [
        "Given: A DNA string s of length at most 1000 bp.\r\n",
        "\r\n",
        "Return: The reverse complement sc of s."
      ]
    },
    {
      "cell_type": "code",
      "metadata": {
        "id": "KFmtvxInaNzy"
      },
      "source": [
        "s = \"AAAACCCGGT\""
      ],
      "execution_count": 1,
      "outputs": []
    },
    {
      "cell_type": "code",
      "metadata": {
        "colab": {
          "base_uri": "https://localhost:8080/"
        },
        "id": "FrDfbjilaWRp",
        "outputId": "66060b16-9dae-4746-8c0a-5234e5e8ef7a"
      },
      "source": [
        "# string vazia que receberá as bases complementares\r\n",
        "dna_complementar = ''\r\n",
        "\r\n",
        "# dicionário com a base complementar\r\n",
        "troca = {\"A\": \"T\",\r\n",
        "         \"T\": \"A\",\r\n",
        "         \"G\": \"C\",\r\n",
        "         \"C\": \"G\"}\r\n",
        "\r\n",
        "# iterar sobre cada base de 's' e adicionar sua base complementar em 'dna_complementar'\r\n",
        "for base in s:\r\n",
        "  dna_complementar += troca[base]\r\n",
        "\r\n",
        "\r\n",
        "print(dna_complementar)"
      ],
      "execution_count": 4,
      "outputs": [
        {
          "output_type": "stream",
          "text": [
            "TTTTGGGCCA\n"
          ],
          "name": "stdout"
        }
      ]
    },
    {
      "cell_type": "code",
      "metadata": {
        "colab": {
          "base_uri": "https://localhost:8080/"
        },
        "id": "lF03CG7Iarur",
        "outputId": "5162ab48-f50a-4bc3-f7c2-9275e46934de"
      },
      "source": [
        "# reverso do dna_complementar\r\n",
        "dna_complementar_reverso = dna_complementar[::-1]\r\n",
        "\r\n",
        "print(dna_complementar_reverso)"
      ],
      "execution_count": 11,
      "outputs": [
        {
          "output_type": "stream",
          "text": [
            "ACCGGGTTTT\n"
          ],
          "name": "stdout"
        }
      ]
    }
  ]
}