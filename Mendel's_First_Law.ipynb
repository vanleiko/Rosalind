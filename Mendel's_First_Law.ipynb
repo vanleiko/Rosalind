{
  "nbformat": 4,
  "nbformat_minor": 0,
  "metadata": {
    "colab": {
      "name": "Mendel's-First-Law.ipynb",
      "provenance": [],
      "authorship_tag": "ABX9TyORlbtJMYjgq/yFIPr7d/Mi"
    },
    "kernelspec": {
      "name": "python3",
      "display_name": "Python 3"
    }
  },
  "cells": [
    {
      "cell_type": "markdown",
      "metadata": {
        "id": "TBzn8oIybwFf"
      },
      "source": [
        "#**Mendel's First Law**\r\n",
        "\r\n",
        "http://rosalind.info/problems/iprb/"
      ]
    },
    {
      "cell_type": "markdown",
      "metadata": {
        "id": "HJ2YKi2SbwCm"
      },
      "source": [
        "Given: Three positive integers k, m, and n, representing a population containing k+m+n organisms: k individuals are homozygous dominant for a factor, m are heterozygous, and n are homozygous recessive.\r\n",
        "\r\n",
        "Return: The probability that two randomly selected mating organisms will produce an individual possessing a dominant allele (and thus displaying the dominant phenotype). Assume that any two organisms can mate."
      ]
    },
    {
      "cell_type": "markdown",
      "metadata": {
        "id": "FDn2MMizcRCE"
      },
      "source": [
        "k = homozigoto dominante (AA)\r\n",
        "\r\n",
        "m = heterozigoto (Aa)\r\n",
        "\r\n",
        "n = homozigoto recessivo (aa)"
      ]
    },
    {
      "cell_type": "code",
      "metadata": {
        "id": "TX4Zosbkb1bB"
      },
      "source": [
        "# função irá retornar a probabilidade de um indivíduo ter um alelo dominante 'A' a partir de um cruzamento aleatório\r\n",
        "def alelo_dominante(k, m, n):\r\n",
        "    total = k + m + n\r\n",
        "\r\n",
        "    # combinação: Cn,p (n = total; p = 2 -> casal)\r\n",
        "    prob_total = (total * (total - 1)) / 2\r\n",
        "\r\n",
        "    # probabilidade de ter pelo menos 1 alelo dominante 'A'\r\n",
        "    k_m = (k * m)\r\n",
        "    k_n = (k * n)\r\n",
        "    m_n = (m * n) * 0.5\r\n",
        "    k_k = (k * (k - 1)) / 2\r\n",
        "    m_m = ((m * (m - 1)) / 2 ) * 0.75\r\n",
        "\r\n",
        "    prob_heterozgoto = k_m + k_n + m_n + k_k + m_m\r\n",
        "\r\n",
        "    heterozigoto = prob_heterozgoto / prob_total\r\n",
        "\r\n",
        "    return heterozigoto"
      ],
      "execution_count": 1,
      "outputs": []
    },
    {
      "cell_type": "code",
      "metadata": {
        "colab": {
          "base_uri": "https://localhost:8080/"
        },
        "id": "XLupP1f6bsjF",
        "outputId": "1a421cf8-073d-4356-e169-1d83296b2a86"
      },
      "source": [
        "# chamando a função\r\n",
        "alelo_dominante(2, 2, 2)"
      ],
      "execution_count": 2,
      "outputs": [
        {
          "output_type": "execute_result",
          "data": {
            "text/plain": [
              "0.7833333333333333"
            ]
          },
          "metadata": {
            "tags": []
          },
          "execution_count": 2
        }
      ]
    }
  ]
}