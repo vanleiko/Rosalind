{
  "nbformat": 4,
  "nbformat_minor": 0,
  "metadata": {
    "colab": {
      "name": "Counting-DNA-Nucleotides.ipynb",
      "provenance": [],
      "authorship_tag": "ABX9TyOO4O7TKaaw4jwZ8pQ6aEEw",
      "include_colab_link": true
    },
    "kernelspec": {
      "name": "python3",
      "display_name": "Python 3"
    }
  },
  "cells": [
    {
      "cell_type": "markdown",
      "metadata": {
        "id": "view-in-github",
        "colab_type": "text"
      },
      "source": [
        "<a href=\"https://colab.research.google.com/github/vanleiko/Rosalind/blob/main/Counting_DNA_Nucleotides.ipynb\" target=\"_parent\"><img src=\"https://colab.research.google.com/assets/colab-badge.svg\" alt=\"Open In Colab\"/></a>"
      ]
    },
    {
      "cell_type": "markdown",
      "metadata": {
        "id": "I1VOdTuwYsZy"
      },
      "source": [
        "#**Counting DNA Nucleotides**\r\n",
        "\r\n",
        "http://rosalind.info/problems/dna/"
      ]
    },
    {
      "cell_type": "markdown",
      "metadata": {
        "id": "3Ht_kQw2YXKF"
      },
      "source": [
        "Given: A DNA string s of length at most 1000 nt.\r\n",
        "\r\n",
        "Return: Four integers (separated by spaces) counting the respective number of times that the symbols 'A', 'C', 'G', and 'T' occur in s."
      ]
    },
    {
      "cell_type": "code",
      "metadata": {
        "id": "y5Td_Z9YXUMc"
      },
      "source": [
        "s = \"AGCTTTTCATTCTGACTGCAACGGGCAATATGTCTCTGTGTGGATTAAAAAAAGAGTGTCTGATAGCAGC\""
      ],
      "execution_count": null,
      "outputs": []
    },
    {
      "cell_type": "code",
      "metadata": {
        "id": "efeMnQkLYcgw"
      },
      "source": [
        "# usar count() para contar cada nucleotídeo\r\n",
        "adenina = s.count(\"A\")\r\n",
        "citosina = s.count(\"C\")\r\n",
        "guanina = s.count(\"G\")\r\n",
        "timina = s.count(\"T\")"
      ],
      "execution_count": null,
      "outputs": []
    },
    {
      "cell_type": "code",
      "metadata": {
        "colab": {
          "base_uri": "https://localhost:8080/"
        },
        "id": "Djmyn-1jYj3D",
        "outputId": "3c8e2afb-0dab-4977-ca3d-8b7d5599f187"
      },
      "source": [
        "print(adenina, citosina, guanina, timina)"
      ],
      "execution_count": null,
      "outputs": [
        {
          "output_type": "stream",
          "text": [
            "20 12 17 21\n"
          ],
          "name": "stdout"
        }
      ]
    }
  ]
}