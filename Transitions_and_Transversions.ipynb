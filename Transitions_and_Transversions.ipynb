{
  "nbformat": 4,
  "nbformat_minor": 0,
  "metadata": {
    "colab": {
      "name": "Transitions-and-Transversions.ipynb",
      "provenance": [],
      "toc_visible": true,
      "authorship_tag": "ABX9TyOD9+Unq7vaqUAMZoH06uZv"
    },
    "kernelspec": {
      "name": "python3",
      "display_name": "Python 3"
    }
  },
  "cells": [
    {
      "cell_type": "markdown",
      "metadata": {
        "id": "HPEXLa-FYlBY"
      },
      "source": [
        "#**Transitions and Transversions**\r\n",
        "\r\n",
        "http://rosalind.info/problems/tran/"
      ]
    },
    {
      "cell_type": "markdown",
      "metadata": {
        "id": "3490e8XqYpJH"
      },
      "source": [
        "Given: Two DNA strings s1 and s2 of equal length (at most 1 kbp).\r\n",
        "\r\n",
        "Return: The transition/transversion ratio R(s1,s2)."
      ]
    },
    {
      "cell_type": "code",
      "metadata": {
        "colab": {
          "base_uri": "https://localhost:8080/"
        },
        "id": "_9Ci9GcZYi6z",
        "outputId": "e59f98b5-0064-48f7-e918-d33ad238d9e7"
      },
      "source": [
        "!pip install biopython"
      ],
      "execution_count": 1,
      "outputs": [
        {
          "output_type": "stream",
          "text": [
            "Collecting biopython\n",
            "\u001b[?25l  Downloading https://files.pythonhosted.org/packages/76/02/8b606c4aa92ff61b5eda71d23b499ab1de57d5e818be33f77b01a6f435a8/biopython-1.78-cp36-cp36m-manylinux1_x86_64.whl (2.3MB)\n",
            "\u001b[K     |████████████████████████████████| 2.3MB 5.9MB/s \n",
            "\u001b[?25hRequirement already satisfied: numpy in /usr/local/lib/python3.6/dist-packages (from biopython) (1.19.4)\n",
            "Installing collected packages: biopython\n",
            "Successfully installed biopython-1.78\n"
          ],
          "name": "stdout"
        }
      ]
    },
    {
      "cell_type": "code",
      "metadata": {
        "id": "YfqXTJdhY08-"
      },
      "source": [
        "from Bio import SeqIO"
      ],
      "execution_count": 2,
      "outputs": []
    },
    {
      "cell_type": "code",
      "metadata": {
        "id": "nuwylnjdY4Y6"
      },
      "source": [
        "arquivo = list(SeqIO.parse(\"/content/file_tran.txt\", \"fasta\"))"
      ],
      "execution_count": 3,
      "outputs": []
    },
    {
      "cell_type": "code",
      "metadata": {
        "colab": {
          "base_uri": "https://localhost:8080/"
        },
        "id": "H6OkKZ-qZBdo",
        "outputId": "39562e00-3254-4376-ffd6-fc2ae51c1af5"
      },
      "source": [
        "s1 = str(arquivo[0].seq)\r\n",
        "s2 = str(arquivo[1].seq)\r\n",
        "\r\n",
        "print(s1)\r\n",
        "print(s2)"
      ],
      "execution_count": 4,
      "outputs": [
        {
          "output_type": "stream",
          "text": [
            "GCAACGCACAACGAAAACCCTTAGGGACTGGATTATTTCGTGATCGTTGTAGTTATTGGAAGTACGGGCATCAACCCAGTT\n",
            "TTATCTGACAAAGAAAGCCGTCAACGGCTGGATAATTTCGCGATCGTGCTGGTTACTGGCGGTACGAGTGTTCCTTTGGGT\n"
          ],
          "name": "stdout"
        }
      ]
    },
    {
      "cell_type": "code",
      "metadata": {
        "id": "cNrXQkokZJJU"
      },
      "source": [
        "# retorna a proporção transição/transversão\r\n",
        "def retorna_ratio(s1, s2):\r\n",
        "  \r\n",
        "  transicao = 0\r\n",
        "  transversao = 0\r\n",
        "  tamanho = len(s1)\r\n",
        "\r\n",
        "  base = {\"A\": \"purina\",\r\n",
        "           \"G\": \"purina\",\r\n",
        "           \"C\": \"pirimidina\",\r\n",
        "           \"T\": \"pirimidina\"}\r\n",
        "\r\n",
        "  for pos in range(tamanho):\r\n",
        "    if s1[pos] != s2[pos]:\r\n",
        "        \r\n",
        "      if base[s1[pos]] == base[s2[pos]] == \"purina\":\r\n",
        "        transicao += 1\r\n",
        "\r\n",
        "      elif base[s1[pos]] == base[s2[pos]] == \"pirimidina\":\r\n",
        "        transicao += 1\r\n",
        "        \r\n",
        "      else:\r\n",
        "        transversao += 1\r\n",
        " \r\n",
        "  ratio = transicao/transversao\r\n",
        "\r\n",
        "  return ratio"
      ],
      "execution_count": 22,
      "outputs": []
    },
    {
      "cell_type": "code",
      "metadata": {
        "colab": {
          "base_uri": "https://localhost:8080/"
        },
        "id": "aslzmPhcap9o",
        "outputId": "1ece0b7b-cc2d-4645-d4bb-8572ed394c47"
      },
      "source": [
        "retorna_ratio(s1, s2)"
      ],
      "execution_count": 23,
      "outputs": [
        {
          "output_type": "execute_result",
          "data": {
            "text/plain": [
              "1.2142857142857142"
            ]
          },
          "metadata": {
            "tags": []
          },
          "execution_count": 23
        }
      ]
    }
  ]
}