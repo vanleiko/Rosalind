{
  "nbformat": 4,
  "nbformat_minor": 0,
  "metadata": {
    "colab": {
      "name": "Finding-a- Motif-in-DNA.ipynb",
      "provenance": [],
      "authorship_tag": "ABX9TyPPc12eA8IK/rwQhMs34sdk"
    },
    "kernelspec": {
      "name": "python3",
      "display_name": "Python 3"
    }
  },
  "cells": [
    {
      "cell_type": "markdown",
      "metadata": {
        "id": "jqGjvtIWjXzX"
      },
      "source": [
        "#**Finding a Motif in DNA**\r\n",
        "\r\n",
        "http://rosalind.info/problems/subs/"
      ]
    },
    {
      "cell_type": "markdown",
      "metadata": {
        "id": "vRHHd0JZjchc"
      },
      "source": [
        "Given: Two DNA strings s and t (each of length at most 1 kbp).\r\n",
        "\r\n",
        "Return: All locations of t as a substring of s."
      ]
    },
    {
      "cell_type": "code",
      "metadata": {
        "id": "SFAKJ3NjjTd_"
      },
      "source": [
        "s = \"GATATATGCATATACTT\"\r\n",
        "t = \"ATAT\""
      ],
      "execution_count": 2,
      "outputs": []
    },
    {
      "cell_type": "code",
      "metadata": {
        "id": "M9qVxsgbjaK4"
      },
      "source": [
        "# função que retorna todas as posições de 't' em 's'\r\n",
        "def posicao_motif(s, t):\r\n",
        "\r\n",
        "  lista_posicoes = []\r\n",
        "  tamanho_s = len(s)\r\n",
        "  tamanho_t = len(t)\r\n",
        "\r\n",
        "  for pos in range(tamanho_s - tamanho_t + 1):\r\n",
        "    if s[pos:pos+tamanho_t] == t:\r\n",
        "      lista_posicoes.append(pos+1)\r\n",
        "\r\n",
        "  return lista_posicoes"
      ],
      "execution_count": 4,
      "outputs": []
    },
    {
      "cell_type": "code",
      "metadata": {
        "colab": {
          "base_uri": "https://localhost:8080/"
        },
        "id": "krNQbXHRkxNJ",
        "outputId": "3d1a6421-c4f1-42ac-a2dc-f501aeeafc56"
      },
      "source": [
        "# chamando a função\r\n",
        "posicoes =  posicao_motif(s, t)\r\n",
        "\r\n",
        "for posicao in posicoes:\r\n",
        "  print(posicao, end=\" \")"
      ],
      "execution_count": 6,
      "outputs": [
        {
          "output_type": "stream",
          "text": [
            "2 4 10 "
          ],
          "name": "stdout"
        }
      ]
    }
  ]
}