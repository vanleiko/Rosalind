{
  "nbformat": 4,
  "nbformat_minor": 0,
  "metadata": {
    "colab": {
      "name": "Calculating-Protein-Mass .ipynb",
      "provenance": [],
      "authorship_tag": "ABX9TyO5G8AO/oFfC45WfEG3o3Zw"
    },
    "kernelspec": {
      "name": "python3",
      "display_name": "Python 3"
    }
  },
  "cells": [
    {
      "cell_type": "markdown",
      "metadata": {
        "id": "e9BHsceCsBVb"
      },
      "source": [
        "#**Calculating Protein Mass**\r\n",
        "\r\n",
        "http://rosalind.info/problems/prtm/"
      ]
    },
    {
      "cell_type": "markdown",
      "metadata": {
        "id": "JqbMTME7sE-n"
      },
      "source": [
        "Given: A protein string P of length at most 1000 aa.\r\n",
        "\r\n",
        "Return: The total weight of P. Consult the monoisotopic mass table."
      ]
    },
    {
      "cell_type": "code",
      "metadata": {
        "id": "NttAGCKCr_Cb"
      },
      "source": [
        "p = \"SKADYEK\""
      ],
      "execution_count": 7,
      "outputs": []
    },
    {
      "cell_type": "code",
      "metadata": {
        "id": "n2wkKGBwsIQV"
      },
      "source": [
        "# retorna a massa do aminoácido\r\n",
        "def retorna_massa(aa):\r\n",
        "  \r\n",
        "  massa_aminoacido = {\"A\": 71.03711, \"C\": 103.00919, \"D\": 115.02694, \"E\": 129.04259,\r\n",
        "                  \"F\": 147.06841, \"G\": 57.02146, \"H\": 137.05891, \"I\": 113.08406, \r\n",
        "                  \"K\": 128.09496, \"L\": 113.08406, \"M\": 131.04049, \"N\": 114.04293, \r\n",
        "                  \"P\": 97.05276, \"Q\": 128.05858, \"R\": 156.10111, \"S\": 87.03203, \r\n",
        "                  \"T\": 101.04768, \"V\": 99.06841, \"W\": 186.07931, \"Y\": 163.06333}\r\n",
        "\r\n",
        "  return massa_aminoacido[aa]"
      ],
      "execution_count": 11,
      "outputs": []
    },
    {
      "cell_type": "code",
      "metadata": {
        "id": "JgoXZvOXsLd_"
      },
      "source": [
        "# função que retorna a massa da proteína\r\n",
        "def massa_proteina(p):\r\n",
        "\r\n",
        "  massa_total = 0\r\n",
        "\r\n",
        "  for aa in p:\r\n",
        "    massa = retorna_massa(aa)\r\n",
        "    massa_total +=  massa\r\n",
        "\r\n",
        "  return massa_total"
      ],
      "execution_count": 12,
      "outputs": []
    },
    {
      "cell_type": "code",
      "metadata": {
        "id": "rR8frd2psY7j"
      },
      "source": [
        "# chamando a função\r\n",
        "massa = massa_proteina(p)"
      ],
      "execution_count": 20,
      "outputs": []
    },
    {
      "cell_type": "code",
      "metadata": {
        "id": "E_2w3-9GtsOY",
        "outputId": "c02a8ef4-bc06-4510-9ed6-45a7bdaa6ffe",
        "colab": {
          "base_uri": "https://localhost:8080/"
        }
      },
      "source": [
        "print(\"{:.3f}\".format(massa))"
      ],
      "execution_count": 21,
      "outputs": [
        {
          "output_type": "stream",
          "text": [
            "821.392\n"
          ],
          "name": "stdout"
        }
      ]
    }
  ]
}