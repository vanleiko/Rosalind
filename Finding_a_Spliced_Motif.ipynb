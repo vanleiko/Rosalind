{
  "nbformat": 4,
  "nbformat_minor": 0,
  "metadata": {
    "colab": {
      "name": "Finding-a-Spliced-Motif.ipynb",
      "provenance": [],
      "toc_visible": true,
      "authorship_tag": "ABX9TyMIZHtCCVSIGbmtAygn5qwe"
    },
    "kernelspec": {
      "name": "python3",
      "display_name": "Python 3"
    }
  },
  "cells": [
    {
      "cell_type": "markdown",
      "metadata": {
        "id": "h6dBAR3eVC1O"
      },
      "source": [
        "#**Finding a Spliced Motif**\r\n",
        "\r\n",
        "http://rosalind.info/problems/sseq/"
      ]
    },
    {
      "cell_type": "markdown",
      "metadata": {
        "id": "UKhMDTSvVHT3"
      },
      "source": [
        "Given: Two DNA strings s and t (each of length at most 1 kbp) in FASTA format.\r\n",
        "\r\n",
        "Return: One collection of indices of s in which the symbols of t appear as a subsequence of s. If multiple solutions exist, you may return any one."
      ]
    },
    {
      "cell_type": "code",
      "metadata": {
        "colab": {
          "base_uri": "https://localhost:8080/"
        },
        "id": "7uN0BRIBVCgR",
        "outputId": "6e5abaa0-b8c5-4bd2-d89c-cc931994e374"
      },
      "source": [
        "!pip install biopython"
      ],
      "execution_count": 1,
      "outputs": [
        {
          "output_type": "stream",
          "text": [
            "Collecting biopython\n",
            "\u001b[?25l  Downloading https://files.pythonhosted.org/packages/76/02/8b606c4aa92ff61b5eda71d23b499ab1de57d5e818be33f77b01a6f435a8/biopython-1.78-cp36-cp36m-manylinux1_x86_64.whl (2.3MB)\n",
            "\u001b[K     |████████████████████████████████| 2.3MB 5.9MB/s \n",
            "\u001b[?25hRequirement already satisfied: numpy in /usr/local/lib/python3.6/dist-packages (from biopython) (1.19.4)\n",
            "Installing collected packages: biopython\n",
            "Successfully installed biopython-1.78\n"
          ],
          "name": "stdout"
        }
      ]
    },
    {
      "cell_type": "code",
      "metadata": {
        "id": "A-iONZx1VR2Z"
      },
      "source": [
        "from Bio import SeqIO"
      ],
      "execution_count": 2,
      "outputs": []
    },
    {
      "cell_type": "code",
      "metadata": {
        "id": "Dvnc62FZVVB4"
      },
      "source": [
        "arquivo = list(SeqIO.parse(\"/content/file_sseq.txt\", \"fasta\"))"
      ],
      "execution_count": 3,
      "outputs": []
    },
    {
      "cell_type": "code",
      "metadata": {
        "colab": {
          "base_uri": "https://localhost:8080/"
        },
        "id": "noNx9IwPVlV4",
        "outputId": "ae6075c2-7753-4a4e-8c4c-b381083b5d5c"
      },
      "source": [
        "s = str(arquivo[0].seq)\r\n",
        "t = str(arquivo[1].seq)\r\n",
        "\r\n",
        "print(s)\r\n",
        "print(t)"
      ],
      "execution_count": 5,
      "outputs": [
        {
          "output_type": "stream",
          "text": [
            "ACGTACGTGACG\n",
            "GTA\n"
          ],
          "name": "stdout"
        }
      ]
    },
    {
      "cell_type": "code",
      "metadata": {
        "id": "eIVSnOXuVtvH"
      },
      "source": [
        "# retorna as posições em que 't' aparece em 's', não necessariamente juntos\r\n",
        "def retorna_indices(s,t):\r\n",
        "  \r\n",
        "  indices = []\r\n",
        "  start = 0\r\n",
        "\r\n",
        "  for base in t:\r\n",
        "    indice = s.find(base, start)\r\n",
        "    indices.append(indice + 1)\r\n",
        "    start += 1\r\n",
        "\r\n",
        "  return indices\r\n",
        "\r\n",
        "\r\n"
      ],
      "execution_count": 8,
      "outputs": []
    },
    {
      "cell_type": "code",
      "metadata": {
        "colab": {
          "base_uri": "https://localhost:8080/"
        },
        "id": "pcggMm3VW095",
        "outputId": "c21da1c7-ea40-40a3-ac81-bdf637d7cb96"
      },
      "source": [
        "retorna_indices(s,t)"
      ],
      "execution_count": 9,
      "outputs": [
        {
          "output_type": "execute_result",
          "data": {
            "text/plain": [
              "[3, 4, 5]"
            ]
          },
          "metadata": {
            "tags": []
          },
          "execution_count": 9
        }
      ]
    }
  ]
}