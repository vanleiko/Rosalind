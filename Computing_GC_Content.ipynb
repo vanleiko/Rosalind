{
  "nbformat": 4,
  "nbformat_minor": 0,
  "metadata": {
    "colab": {
      "name": "Computing-GC-Content.ipynb",
      "provenance": [],
      "toc_visible": true,
      "authorship_tag": "ABX9TyOFdCap8TtVsyVUmGB7zI9K"
    },
    "kernelspec": {
      "name": "python3",
      "display_name": "Python 3"
    }
  },
  "cells": [
    {
      "cell_type": "markdown",
      "metadata": {
        "id": "BcTa-59-eeVi"
      },
      "source": [
        "#**Computing GC Content**\r\n",
        "\r\n",
        "http://rosalind.info/problems/gc/"
      ]
    },
    {
      "cell_type": "markdown",
      "metadata": {
        "id": "wm93yQTZeeb1"
      },
      "source": [
        "Given: At most 10 DNA strings in FASTA format (of length at most 1 kbp each).\r\n",
        "\r\n",
        "Return: The ID of the string having the highest GC-content, followed by the GC-content of that string. Rosalind allows for a default error of 0.001 in all decimal answers unless otherwise stated; please see the note on absolute error below."
      ]
    },
    {
      "cell_type": "code",
      "metadata": {
        "colab": {
          "base_uri": "https://localhost:8080/"
        },
        "id": "dD5b61hzea0A",
        "outputId": "a6d1096a-ba95-4175-ed0f-bbb6017dc676"
      },
      "source": [
        "# usei a biblioteca Biopython para ler o arquivo tipo FASTA\r\n",
        "!pip install biopython"
      ],
      "execution_count": 1,
      "outputs": [
        {
          "output_type": "stream",
          "text": [
            "Collecting biopython\n",
            "\u001b[?25l  Downloading https://files.pythonhosted.org/packages/76/02/8b606c4aa92ff61b5eda71d23b499ab1de57d5e818be33f77b01a6f435a8/biopython-1.78-cp36-cp36m-manylinux1_x86_64.whl (2.3MB)\n",
            "\u001b[K     |████████████████████████████████| 2.3MB 6.0MB/s \n",
            "\u001b[?25hRequirement already satisfied: numpy in /usr/local/lib/python3.6/dist-packages (from biopython) (1.19.4)\n",
            "Installing collected packages: biopython\n",
            "Successfully installed biopython-1.78\n"
          ],
          "name": "stdout"
        }
      ]
    },
    {
      "cell_type": "code",
      "metadata": {
        "id": "CTWYSkHreqwH"
      },
      "source": [
        "from Bio import SeqIO\r\n",
        "from Bio.SeqUtils import GC"
      ],
      "execution_count": 2,
      "outputs": []
    },
    {
      "cell_type": "code",
      "metadata": {
        "id": "cwM45JUYexAG"
      },
      "source": [
        "# lendo o arquivo\r\n",
        "arquivo = SeqIO.parse(\"/content/gc_file.txt\", \"fasta\")"
      ],
      "execution_count": 27,
      "outputs": []
    },
    {
      "cell_type": "code",
      "metadata": {
        "colab": {
          "base_uri": "https://localhost:8080/"
        },
        "id": "bmUzIM3AfKGW",
        "outputId": "22327af8-c5c6-4109-f136-6dbdf9a6ce8f"
      },
      "source": [
        "# para cada sequência, imprimir sua ID e seu conteúdo GC\r\n",
        "for item in arquivo:\r\n",
        "  print(item.id, GC(item.seq))"
      ],
      "execution_count": 5,
      "outputs": [
        {
          "output_type": "stream",
          "text": [
            "Rosalind_6404 53.75\n",
            "Rosalind_5959 53.57142857142857\n",
            "Rosalind_0808 60.91954022988506\n"
          ],
          "name": "stdout"
        }
      ]
    }
  ]
}