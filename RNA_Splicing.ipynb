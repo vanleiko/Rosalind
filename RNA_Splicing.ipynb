{
  "nbformat": 4,
  "nbformat_minor": 0,
  "metadata": {
    "colab": {
      "name": "RNA-Splicing.ipynb",
      "provenance": [],
      "authorship_tag": "ABX9TyN5ULPhAXFrbxRVfS7k3C6S"
    },
    "kernelspec": {
      "name": "python3",
      "display_name": "Python 3"
    }
  },
  "cells": [
    {
      "cell_type": "markdown",
      "metadata": {
        "id": "INt1XJHAQ1d0"
      },
      "source": [
        "#**RNA Splicing**\r\n",
        "\r\n",
        "http://rosalind.info/problems/splc/"
      ]
    },
    {
      "cell_type": "markdown",
      "metadata": {
        "id": "Rfa_8waDQ1lI"
      },
      "source": [
        "Given: A DNA string s (of length at most 1 kbp) and a collection of substrings of s acting as introns. All strings are given in FASTA format.\r\n",
        "\r\n",
        "Return: A protein string resulting from transcribing and translating the exons of s. (Note: Only one solution will exist for the dataset provided.)"
      ]
    },
    {
      "cell_type": "code",
      "metadata": {
        "colab": {
          "base_uri": "https://localhost:8080/"
        },
        "id": "j92p5PTvQrJf",
        "outputId": "4c7a9ad6-783c-4843-8439-70e54b48329a"
      },
      "source": [
        "!pip install biopython"
      ],
      "execution_count": 1,
      "outputs": [
        {
          "output_type": "stream",
          "text": [
            "Collecting biopython\n",
            "\u001b[?25l  Downloading https://files.pythonhosted.org/packages/76/02/8b606c4aa92ff61b5eda71d23b499ab1de57d5e818be33f77b01a6f435a8/biopython-1.78-cp36-cp36m-manylinux1_x86_64.whl (2.3MB)\n",
            "\u001b[K     |████████████████████████████████| 2.3MB 6.1MB/s \n",
            "\u001b[?25hRequirement already satisfied: numpy in /usr/local/lib/python3.6/dist-packages (from biopython) (1.19.4)\n",
            "Installing collected packages: biopython\n",
            "Successfully installed biopython-1.78\n"
          ],
          "name": "stdout"
        }
      ]
    },
    {
      "cell_type": "code",
      "metadata": {
        "id": "mZnVFXJfRDh4"
      },
      "source": [
        "from Bio.Seq import Seq\r\n",
        "from Bio import SeqIO"
      ],
      "execution_count": 2,
      "outputs": []
    },
    {
      "cell_type": "code",
      "metadata": {
        "id": "OIO2qAESRLcF"
      },
      "source": [
        "arquivo = list(SeqIO.parse(\"/content/file_splc.txt\", \"fasta\"))"
      ],
      "execution_count": 5,
      "outputs": []
    },
    {
      "cell_type": "code",
      "metadata": {
        "colab": {
          "base_uri": "https://localhost:8080/"
        },
        "id": "TNRmJlbyRQ20",
        "outputId": "53934258-af80-46b4-8f96-0e168e3cb0f1"
      },
      "source": [
        "# extraindo a string de DNA (que é a primeira sequência do arquivo)\r\n",
        "string = str(arquivo[0].seq)\r\n",
        "\r\n",
        "print(string)"
      ],
      "execution_count": 12,
      "outputs": [
        {
          "output_type": "stream",
          "text": [
            "ATGGTCTACATAGCTGACAAACAGCACGTAGCAATCGGTCGAATCTCGAGAGGCATATGGTCACATGATCGGTCGAGCGTGTTTCAAAGTTTGCGCCTAG\n"
          ],
          "name": "stdout"
        }
      ]
    },
    {
      "cell_type": "code",
      "metadata": {
        "colab": {
          "base_uri": "https://localhost:8080/"
        },
        "id": "ZxZ2vSyMRavd",
        "outputId": "9db71cc7-03cf-4c8e-bf1c-77985e56d2a9"
      },
      "source": [
        "# remover os introns da string\r\n",
        "for item in arquivo[1:]:\r\n",
        "  intron = str(item.seq)\r\n",
        "  string = string.replace(intron, \"\")\r\n",
        "\r\n",
        "print(string)\r\n",
        " "
      ],
      "execution_count": 13,
      "outputs": [
        {
          "output_type": "stream",
          "text": [
            "ATGGTCTACATAGCTGACAAACAGCACGTAGCATCTCGAGAGGCATATGGTCACATGTTCAAAGTTTGCGCCTAG\n"
          ],
          "name": "stdout"
        }
      ]
    },
    {
      "cell_type": "code",
      "metadata": {
        "colab": {
          "base_uri": "https://localhost:8080/"
        },
        "id": "5BEkivqkRxDb",
        "outputId": "58f9e8e2-7f97-43fa-9177-447605c591db"
      },
      "source": [
        "# instanciar a sequência na classe Seq para usar os métodos da classe\r\n",
        "dna_seq = Seq(string)\r\n",
        "\r\n",
        "# tradução usando o método translate()\r\n",
        "proteina = dna_seq.translate(to_stop=True)\r\n",
        "\r\n",
        "print(proteina)"
      ],
      "execution_count": 17,
      "outputs": [
        {
          "output_type": "stream",
          "text": [
            "MVYIADKQHVASREAYGHMFKVCA\n"
          ],
          "name": "stdout"
        }
      ]
    }
  ]
}