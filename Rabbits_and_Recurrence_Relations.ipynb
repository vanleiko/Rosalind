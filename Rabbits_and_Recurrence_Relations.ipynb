{
  "nbformat": 4,
  "nbformat_minor": 0,
  "metadata": {
    "colab": {
      "name": "Rabbits-and-Recurrence-Relations.ipynb",
      "provenance": [],
      "authorship_tag": "ABX9TyNxf+O7lsC6H9cefmyJYDv5"
    },
    "kernelspec": {
      "name": "python3",
      "display_name": "Python 3"
    }
  },
  "cells": [
    {
      "cell_type": "markdown",
      "metadata": {
        "id": "GFAPylV-drtW"
      },
      "source": [
        "#**Rabbits and Recurrence Relations**\r\n",
        "\r\n",
        "http://rosalind.info/problems/fib/"
      ]
    },
    {
      "cell_type": "markdown",
      "metadata": {
        "id": "MLvA2OgIdrwa"
      },
      "source": [
        "Given: Positive integers n≤40 and k≤5.\r\n",
        "\r\n",
        "Return: The total number of rabbit pairs that will be present after n months, if we begin with 1 pair and in each generation, every pair of reproduction-age rabbits produces a litter of k rabbit pairs (instead of only 1 pair)."
      ]
    },
    {
      "cell_type": "code",
      "metadata": {
        "id": "CSorSRWzdnWW"
      },
      "source": [
        "# recursão simples (fibonacci)\r\n",
        "def fibo(n, k):\r\n",
        "    if n == 1 or n == 2:\r\n",
        "        return 1\r\n",
        "    else:\r\n",
        "        return ((fibo(n-2, k) * k) + fibo(n-1, k))\r\n"
      ],
      "execution_count": 1,
      "outputs": []
    },
    {
      "cell_type": "code",
      "metadata": {
        "colab": {
          "base_uri": "https://localhost:8080/"
        },
        "id": "k3qfAN1rd9Kh",
        "outputId": "2ec316f3-1aa3-4344-b951-bb0d38e722d0"
      },
      "source": [
        "n = 5\r\n",
        "k = 3\r\n",
        "\r\n",
        "# chamando a função\r\n",
        "fibo(n, k)"
      ],
      "execution_count": 2,
      "outputs": [
        {
          "output_type": "execute_result",
          "data": {
            "text/plain": [
              "19"
            ]
          },
          "metadata": {
            "tags": []
          },
          "execution_count": 2
        }
      ]
    }
  ]
}